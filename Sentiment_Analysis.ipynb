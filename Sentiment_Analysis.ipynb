{
  "nbformat": 4,
  "nbformat_minor": 0,
  "metadata": {
    "accelerator": "GPU",
    "colab": {
      "name": "Sentiment_Analysis.ipynb",
      "provenance": [],
      "collapsed_sections": [
        "-nfBkpZw31-K",
        "fDg2-g7wGaZP",
        "y6kDXKtb-1nf",
        "J66QEgBH5XBq",
        "d58egS9l5cqb",
        "f_5kZnVgaIag",
        "1M_FbU_u56XJ",
        "VPt0H2eY7gaM",
        "s_Om74ebVEUJ"
      ]
    },
    "kernelspec": {
      "display_name": "Python 3",
      "name": "python3"
    }
  },
  "cells": [
    {
      "cell_type": "code",
      "metadata": {
        "colab": {
          "base_uri": "https://localhost:8080/"
        },
        "id": "rbYLS-_yd_d4",
        "outputId": "4367e016-79eb-4ae2-a9c3-b0c84101c627"
      },
      "source": [
        "from google.colab import drive\n",
        "drive.mount('/content/drive')\n",
        "\n",
        "import numpy as np\n",
        "import pandas as pd"
      ],
      "execution_count": null,
      "outputs": [
        {
          "name": "stdout",
          "output_type": "stream",
          "text": [
            "Mounted at /content/drive\n"
          ]
        }
      ]
    },
    {
      "cell_type": "code",
      "metadata": {
        "id": "7SWxJqJZ4Bb0"
      },
      "source": [
        "data = pd.read_csv('/content/drive/MyDrive/DL4NLP/train.csv', ',')\n",
        "df_test = pd.read_csv(\"/content/drive/MyDrive/DL4NLP/gold_test.csv\")\n",
        "\n",
        "data = data.drop(['Unnamed: 0'], axis = 1)\n",
        "df_test = df_test.drop(['Unnamed: 0'], axis = 1)"
      ],
      "execution_count": null,
      "outputs": []
    },
    {
      "cell_type": "markdown",
      "metadata": {
        "id": "-nfBkpZw31-K"
      },
      "source": [
        "#Bi-LSTM Model"
      ]
    },
    {
      "cell_type": "markdown",
      "metadata": {
        "id": "fDg2-g7wGaZP"
      },
      "source": [
        "##Pre-processing"
      ]
    },
    {
      "cell_type": "code",
      "metadata": {
        "colab": {
          "base_uri": "https://localhost:8080/"
        },
        "id": "GfoIr0yfqem9",
        "outputId": "c6090b11-9e83-40bf-8db1-766c9cc28028"
      },
      "source": [
        "import string\n",
        "import nltk\n",
        "#nltk.download('stopwords')\n",
        "nltk.download('punkt')\n",
        "from nltk.tokenize import word_tokenize \n",
        "\n",
        "import tensorflow as tf\n",
        "from tensorflow.keras.preprocessing.sequence import pad_sequences\n",
        "from tensorflow.keras.callbacks import EarlyStopping\n",
        "\n",
        "from keras.models import Sequential\n",
        "from keras.layers import Flatten, Dense, Activation, Dropout\n",
        "from keras.constraints import max_norm\n",
        "from keras.layers.embeddings import Embedding\n",
        "from keras.utils.generic_utils import get_custom_objects\n",
        "\n",
        "from sklearn.model_selection import train_test_split"
      ],
      "execution_count": null,
      "outputs": [
        {
          "name": "stdout",
          "output_type": "stream",
          "text": [
            "[nltk_data] Downloading package punkt to /root/nltk_data...\n",
            "[nltk_data]   Unzipping tokenizers/punkt.zip.\n"
          ]
        }
      ]
    },
    {
      "cell_type": "code",
      "metadata": {
        "id": "kN91E6ZS7aM2"
      },
      "source": [
        "def convert_to_lower(text):\n",
        "  return text.lower()\n",
        "\n",
        "def remove_punctuations(text):\n",
        "    for punctuation in string.punctuation:\n",
        "        text = text.replace(punctuation, '')\n",
        "    return text\n",
        "\n",
        "def remove_stopwords(text):\n",
        "  # stop_words = nltk.corpus.stopwords.words('english')\n",
        "  # stop_words.remove('not')\n",
        "  stop_words = ['i', 'me', 'my', 'myself', 'we', 'our', 'ours','ourselves','you',\"you're\",\"you've\",\"you'll\",\"you'd\",'your','yours',\n",
        " 'yourself','yourselves','he','him','his','himself','she',\"she's\",'her','hers','herself','it',\"it's\",'its','itself','they','them',\n",
        " 'their','theirs','themselves','what','which','who','whom','this','that',\"that'll\",'these','those','am','is','are','was','were',\n",
        " 'be','been','being','have','has','had','having','do','does','did','doing','a','an','the','and','if','or','because',\n",
        "  'as','until','while','of','at','by','for','with','about','against','between','into','through','during',\n",
        "  'before','after','above','below','to','from','up','down','in','out','on','off','over','under','again',\n",
        "  'further','then','once','here','there','when','where','why','how','all','any','both','each','few','more',\n",
        "  'most','other','some','such','only','own','same','so','than',\n",
        "  'too','very','s','t','can','will','just','should',\"should've\",'now','d','ll','m','o','re','ve','y']\n",
        "  text = ' '.join([word for word in text.split() if word not in stop_words])\n",
        "  return text\n",
        "\n",
        "def perform_tokenization(text):\n",
        "  return word_tokenize(text)\n",
        " #or return text.split()"
      ],
      "execution_count": null,
      "outputs": []
    },
    {
      "cell_type": "code",
      "metadata": {
        "id": "m1yYB3af49CI"
      },
      "source": [
        "def create_vocab_dictionary(reviews):\n",
        "  corpus = {}\n",
        "  index = 1\n",
        "  for review in reviews:\n",
        "    for word in review:\n",
        "      if word not in corpus:\n",
        "        corpus[word]=index\n",
        "        index +=1\n",
        "  return corpus\n",
        "\n",
        "def encode_data(text, dictionary):\n",
        "  new_text = []\n",
        "  for i,word in enumerate(text):\n",
        "    if word in dictionary:\n",
        "      new_text.append(dictionary[word])\n",
        "  return new_text\n",
        "\n",
        "def perform_padding(data):\n",
        "  return pad_sequences(data, padding='pre',maxlen = 30)\n",
        "    # return the reviews after padding the reviews to maximum length"
      ],
      "execution_count": null,
      "outputs": []
    },
    {
      "cell_type": "code",
      "metadata": {
        "id": "m4_nz55k7PuO"
      },
      "source": [
        "def preprocess_data(data):\n",
        "  reviews = data['reviews']\n",
        "  reviews = reviews.apply(convert_to_lower)\n",
        "  reviews = reviews.apply(remove_punctuations)\n",
        "  reviews = reviews.apply(remove_stopwords)\n",
        "  reviews = reviews.apply(perform_tokenization)\n",
        "  dictionary = create_vocab_dictionary(reviews)\n",
        "  reviews = reviews.apply(lambda x: encode_data(x,dictionary))\n",
        "  reviews = perform_padding(reviews)\n",
        "  return reviews, dictionary"
      ],
      "execution_count": null,
      "outputs": []
    },
    {
      "cell_type": "code",
      "metadata": {
        "id": "6FdPDHw4zCAo"
      },
      "source": [
        "def preprocess_data_test(data,dictionary):\n",
        "  reviews = data['reviews']\n",
        "  reviews = reviews.apply(convert_to_lower)\n",
        "  reviews = reviews.apply(remove_punctuations)\n",
        "  reviews = reviews.apply(remove_stopwords)\n",
        "  reviews = reviews.apply(perform_tokenization)\n",
        "  reviews = reviews.apply(lambda x: encode_data(x,dictionary))\n",
        "  reviews = perform_padding(reviews)\n",
        "  return reviews"
      ],
      "execution_count": null,
      "outputs": []
    },
    {
      "cell_type": "code",
      "metadata": {
        "id": "hLa4GTlkjsFf"
      },
      "source": [
        "def to_Categorical(y):\n",
        "  y_new = np.zeros((y.shape[0],5))\n",
        "  for i,j in enumerate(y):\n",
        "    y_new[i,j-1] = 1\n",
        "  return y_new"
      ],
      "execution_count": null,
      "outputs": []
    },
    {
      "cell_type": "code",
      "metadata": {
        "id": "nHeCG3ar37zh"
      },
      "source": [
        "x, dictionary = preprocess_data(data)\n",
        "y = to_Categorical(data['ratings'].values)\n",
        "vocab_size = len(dictionary)+1"
      ],
      "execution_count": null,
      "outputs": []
    },
    {
      "cell_type": "markdown",
      "metadata": {
        "id": "y6kDXKtb-1nf"
      },
      "source": [
        "## Custom Softmax"
      ]
    },
    {
      "cell_type": "code",
      "metadata": {
        "id": "bpzh278MGhu2"
      },
      "source": [
        "def softmax_activation(x, axis=-1):\n",
        "    \"\"\"Compute softmax values for each sets of scores in x.\"\"\"\n",
        "    maxs = tf.math.reduce_max(x)\n",
        "    e_x = tf.exp(x - maxs)\n",
        "    return e_x / tf.math.reduce_sum(e_x)\n",
        "    \n",
        "get_custom_objects().update({'softmax_activation': Activation(softmax_activation)})"
      ],
      "execution_count": null,
      "outputs": []
    },
    {
      "cell_type": "markdown",
      "metadata": {
        "id": "J66QEgBH5XBq"
      },
      "source": [
        "## Embedding Matrix"
      ]
    },
    {
      "cell_type": "markdown",
      "metadata": {
        "id": "0PtvX3sEgU3j"
      },
      "source": [
        "###Glove"
      ]
    },
    {
      "cell_type": "code",
      "metadata": {
        "id": "jHko3CQ4UERi"
      },
      "source": [
        "embeddings_dictionary = dict()\n",
        "glove_file = open('/content/drive/MyDrive/DL4NLP/glove.6B.300d.txt', encoding=\"utf8\")\n",
        "\n",
        "for line in glove_file:\n",
        "    records = line.split()\n",
        "    word = records[0]\n",
        "    vector_dimensions = np.asarray(records[1:], dtype='float32')\n",
        "    embeddings_dictionary [word] = vector_dimensions\n",
        "glove_file.close()\n",
        "\n",
        "embedding_matrix = np.zeros((vocab_size, 300))\n",
        "for word, index in dictionary.items():\n",
        "    embedding_vector = embeddings_dictionary.get(word)\n",
        "    if embedding_vector is not None:\n",
        "        embedding_matrix[index] = embedding_vector"
      ],
      "execution_count": null,
      "outputs": []
    },
    {
      "cell_type": "markdown",
      "metadata": {
        "id": "uboiSjZPgRpU"
      },
      "source": [
        "### Word2Vec"
      ]
    },
    {
      "cell_type": "code",
      "metadata": {
        "id": "Zki62DrMf7B1"
      },
      "source": [
        "#word to vec\n",
        "import gensim\n",
        "from gensim.models import Word2Vec\n",
        "# !wget https://s3.amazonaws.com/dl4j-distribution/GoogleNews-vectors-negative300.bin.gz\n",
        "# !gunzip GoogleNews-vectors-negative300.bin\n",
        "# w2v_file = open('/content/drive/MyDrive/Word2vec/GoogleNews-vectors-negative300.bin', encoding=\"utf8\")\n",
        "# model = gensim.models.KeyedVectors.load_word2vec_format('yelp-2013-embedding-200d.txt', binary=False)\n",
        "model = gensim.models.KeyedVectors.load_word2vec_format('/content/drive/MyDrive/DL4NLP/GoogleNews-vectors-negative300.bin', binary=True)\n",
        "\n",
        "embedding_matrix = np.zeros((vocab_size,300),dtype='float32')\n",
        "for word, index in dictionary.items():\n",
        "  try:\n",
        "    embedding_vector = model[str(word)]\n",
        "  except:\n",
        "    continue\n",
        "\n",
        "  if embedding_vector is not None:\n",
        "      embedding_matrix[index] = embedding_vector"
      ],
      "execution_count": null,
      "outputs": []
    },
    {
      "cell_type": "markdown",
      "metadata": {
        "id": "cPOEbbtL-YUS"
      },
      "source": [
        "### Fasttext"
      ]
    },
    {
      "cell_type": "code",
      "metadata": {
        "id": "4gsynF_9M7Sh"
      },
      "source": [
        "embeddings_dictionary_ft = dict()\n",
        "\n",
        "ft = open('/content/drive/MyDrive/DL4NLP/wiki-news-300d-1M.txt', encoding=\"utf8\")\n",
        "for line in ft:\n",
        "    records = line.split()\n",
        "    word = records[0]\n",
        "    vector_dimensions = np.asarray(records[1:], dtype='float32')\n",
        "    embeddings_dictionary_ft [word] = vector_dimensions\n",
        "ft.close()\n",
        "\n",
        "embedding_matrix = np.zeros((vocab_size, 300))\n",
        "for word, index in dictionary.items():\n",
        "    embedding_vector = embeddings_dictionary_ft.get(word)\n",
        "    if embedding_vector is not None:\n",
        "        embedding_matrix[index] = embedding_vector"
      ],
      "execution_count": null,
      "outputs": []
    },
    {
      "cell_type": "markdown",
      "metadata": {
        "id": "d58egS9l5cqb"
      },
      "source": [
        "## Keras Model Training"
      ]
    },
    {
      "cell_type": "code",
      "metadata": {
        "id": "edg8D_0b_87E"
      },
      "source": [
        "x_train, x_test, y_train, y_test = train_test_split(x, y, test_size=0.2, random_state=42)"
      ],
      "execution_count": null,
      "outputs": []
    },
    {
      "cell_type": "code",
      "metadata": {
        "colab": {
          "base_uri": "https://localhost:8080/"
        },
        "id": "LUsKbnFA-1nf",
        "outputId": "53c0a783-d824-4096-8340-09b50139892c"
      },
      "source": [
        "#neural network with keras\n",
        "from keras.layers import LSTM,Bidirectional\n",
        "# define the keras model\n",
        "bi_lstm_model = Sequential()\n",
        "embedding_layer = Embedding(vocab_size, 300, weights=[embedding_matrix], input_length=x.shape[1] , trainable=True)\n",
        "bi_lstm_model.add(embedding_layer)\n",
        "bi_lstm_model.add(Bidirectional(LSTM(units=64,  dropout=0.2, recurrent_dropout=0.2)))\n",
        "# lstm_model.add(Dense(16, activation='relu'))\n",
        "bi_lstm_model.add(Dense(5, activation='softmax_activation'))\n",
        "\n",
        "# compile the keras model\n",
        "bi_lstm_model.compile(loss='categorical_crossentropy', optimizer='adam', metrics=['accuracy'])\n",
        "\n",
        "bi_lstm_model.summary()\n",
        "\n",
        "bi_lstm_model.fit(x_train, y_train, epochs=20, batch_size=128, validation_data=(x_test, y_test), callbacks=EarlyStopping(monitor='val_loss', mode='min', patience=2, verbose=1))\n",
        "# evaluate the keras model\n",
        "_, accuracy = bi_lstm_model.evaluate(x_test, y_test)\n",
        "print('Accuracy: %.2f' % (accuracy*100))"
      ],
      "execution_count": null,
      "outputs": [
        {
          "name": "stdout",
          "output_type": "stream",
          "text": [
            "Model: \"sequential_2\"\n",
            "_________________________________________________________________\n",
            "Layer (type)                 Output Shape              Param #   \n",
            "=================================================================\n",
            "embedding_1 (Embedding)      (None, 30, 300)           5808900   \n",
            "_________________________________________________________________\n",
            "bidirectional_2 (Bidirection (None, 128)               186880    \n",
            "_________________________________________________________________\n",
            "dense_2 (Dense)              (None, 5)                 645       \n",
            "=================================================================\n",
            "Total params: 5,996,425\n",
            "Trainable params: 5,996,425\n",
            "Non-trainable params: 0\n",
            "_________________________________________________________________\n",
            "Epoch 1/20\n",
            "313/313 [==============================] - 135s 412ms/step - loss: 0.9456 - accuracy: 0.6694 - val_loss: 0.7063 - val_accuracy: 0.7400\n",
            "Epoch 2/20\n",
            "313/313 [==============================] - 126s 402ms/step - loss: 0.6487 - accuracy: 0.7565 - val_loss: 0.6777 - val_accuracy: 0.7482\n",
            "Epoch 3/20\n",
            "313/313 [==============================] - 126s 403ms/step - loss: 0.5656 - accuracy: 0.7841 - val_loss: 0.6903 - val_accuracy: 0.7440\n",
            "Epoch 4/20\n",
            "313/313 [==============================] - 125s 401ms/step - loss: 0.4831 - accuracy: 0.8211 - val_loss: 0.7165 - val_accuracy: 0.7432\n",
            "Epoch 5/20\n",
            "313/313 [==============================] - 125s 398ms/step - loss: 0.4059 - accuracy: 0.8570 - val_loss: 0.7704 - val_accuracy: 0.7324\n",
            "Epoch 00005: early stopping\n",
            "313/313 [==============================] - 6s 19ms/step - loss: 0.7704 - accuracy: 0.7324\n",
            "Accuracy: 73.24\n"
          ]
        }
      ]
    },
    {
      "cell_type": "code",
      "metadata": {
        "colab": {
          "base_uri": "https://localhost:8080/"
        },
        "id": "kq3A1Gav-1nh",
        "outputId": "e02e4cb3-9ab9-425d-c898-4ecd4fe44f32"
      },
      "source": [
        "data_test = preprocess_data_test(df_test,dictionary)\n",
        "y_test_pred_raw = bi_lstm_model.predict(data_test)\n",
        "y_test_pred = np.argmax(y_test_pred_raw,axis = -1)+1\n",
        "y_true = df_test['ratings'].values\n",
        "\n",
        "from sklearn import metrics\n",
        "# Print the precision and recall, among other metrics\n",
        "print(\"Precision, Recall, F1 Score, Support:\")\n",
        "print(metrics.classification_report(y_true, y_test_pred, digits=3))\n",
        "\n",
        "# Print the confusion matrix\n",
        "print(\"Confusion Matrix:\")\n",
        "print(metrics.confusion_matrix(y_true, y_test_pred))"
      ],
      "execution_count": null,
      "outputs": [
        {
          "name": "stdout",
          "output_type": "stream",
          "text": [
            "Precision, Recall, F1 Score, Support:\n",
            "              precision    recall  f1-score   support\n",
            "\n",
            "           1      0.685     0.571     0.623      1271\n",
            "           2      0.287     0.171     0.215       630\n",
            "           3      0.357     0.347     0.352       911\n",
            "           4      0.336     0.276     0.303      1404\n",
            "           5      0.796     0.898     0.844      5784\n",
            "\n",
            "    accuracy                          0.673     10000\n",
            "   macro avg      0.492     0.453     0.467     10000\n",
            "weighted avg      0.645     0.673     0.655     10000\n",
            "\n",
            "Confusion Matrix:\n",
            "[[ 726  154  145   61  185]\n",
            " [ 174  108  166   75  107]\n",
            " [  93   80  316  186  236]\n",
            " [  21   24  166  387  806]\n",
            " [  46   10   92  442 5194]]\n"
          ]
        }
      ]
    },
    {
      "cell_type": "markdown",
      "metadata": {
        "id": "f_5kZnVgaIag"
      },
      "source": [
        "###Run this for Handling unseen word before predicting\n",
        "Takes More Time to predict"
      ]
    },
    {
      "cell_type": "code",
      "metadata": {
        "id": "_e3KnM8KXL9f"
      },
      "source": [
        "def cosine_similarity(vec_1,vec_2):\n",
        "\tsim = np.dot(vec_1,vec_2)/(np.linalg.norm(vec_1)*np.linalg.norm(vec_2))\n",
        "\treturn sim"
      ],
      "execution_count": null,
      "outputs": []
    },
    {
      "cell_type": "code",
      "metadata": {
        "id": "wGf55kziUuoi"
      },
      "source": [
        "def get_nearest(unseen_word, dictionary, embeddings_dictionary):\n",
        "  nearest = 0\n",
        "  nearest_word = ''\n",
        "  for word in dictionary:\n",
        "    if word in embeddings_dictionary:\n",
        "      if cosine_similarity(embeddings_dictionary[unseen_word],embeddings_dictionary[word]) > nearest:\n",
        "        nearest_word = word\n",
        "        nearest = cosine_similarity(embeddings_dictionary[unseen_word],embeddings_dictionary[word])\n",
        "  return nearest_word"
      ],
      "execution_count": null,
      "outputs": []
    },
    {
      "cell_type": "code",
      "metadata": {
        "id": "NmpPjHOuSQE4"
      },
      "source": [
        "def encode_test(text,dictionary,embeddings_dictionary):\n",
        "  new_text = []\n",
        "  for i,word in enumerate(text):\n",
        "    if word in dictionary:\n",
        "      new_text.append(dictionary[word])\n",
        "    elif word in embeddings_dictionary:\n",
        "      nearest_word = get_nearest(word, dictionary, embeddings_dictionary)\n",
        "      new_text.append(dictionary[nearest_word])\n",
        "  return new_text  "
      ],
      "execution_count": null,
      "outputs": []
    },
    {
      "cell_type": "code",
      "metadata": {
        "id": "5AtbD6cnsLi3"
      },
      "source": [
        "def preprocess_data_test(data,dictionary, embeddings_dictionary):\n",
        "  reviews = data['reviews']\n",
        "  reviews = reviews.apply(convert_to_lower)\n",
        "  reviews = reviews.apply(remove_punctuations)\n",
        "  reviews = reviews.apply(remove_stopwords)\n",
        "  reviews = reviews.apply(perform_tokenization)\n",
        "  # dictionary = create_vocab_dictionary(reviews)\n",
        "  reviews = reviews.apply(lambda x: encode_test(x,dictionary,embeddings_dictionary))\n",
        "  reviews = perform_padding(reviews)\n",
        "  return reviews"
      ],
      "execution_count": null,
      "outputs": []
    },
    {
      "cell_type": "markdown",
      "metadata": {
        "id": "1M_FbU_u56XJ"
      },
      "source": [
        "## Keras Model Training for handling Data Imbalance using SMOTE"
      ]
    },
    {
      "cell_type": "code",
      "metadata": {
        "id": "uDTTALonnRkC"
      },
      "source": [
        "embeddings_dictionary = dict()\n",
        "glove_file = open('/content/drive/MyDrive/DL4NLP/glove.6B.50d.txt', encoding=\"utf8\")\n",
        "\n",
        "for line in glove_file:\n",
        "    records = line.split()\n",
        "    word = records[0]\n",
        "    vector_dimensions = np.asarray(records[1:], dtype='float32')\n",
        "    embeddings_dictionary [word] = vector_dimensions\n",
        "glove_file.close()\n",
        "\n",
        "embedding_matrix = np.zeros((vocab_size, 50))\n",
        "for word, index in dictionary.items():\n",
        "    embedding_vector = embeddings_dictionary.get(word)\n",
        "    if embedding_vector is not None:\n",
        "        embedding_matrix[index] = embedding_vector"
      ],
      "execution_count": null,
      "outputs": []
    },
    {
      "cell_type": "code",
      "metadata": {
        "id": "o8mxHpk92_dG"
      },
      "source": [
        "def get_embedding_output(X):\n",
        "    maxLen = 30\n",
        "    embedding_output = np.zeros((len(X), maxLen, 50))\n",
        "\n",
        "    for i in range(X.shape[0]):      \n",
        "        for j in range(maxLen): \n",
        "          embedding_output[i][j] = embedding_matrix[X[i][j]]\n",
        "            \n",
        "    return embedding_output\n",
        "\n",
        "x_input = get_embedding_output(x)"
      ],
      "execution_count": null,
      "outputs": []
    },
    {
      "cell_type": "code",
      "metadata": {
        "colab": {
          "base_uri": "https://localhost:8080/"
        },
        "id": "GJI_2_ZUuqTh",
        "outputId": "fbc84b48-b97a-4e8c-91eb-83eb98975c06"
      },
      "source": [
        "from sklearn.model_selection import train_test_split\n",
        "x_train, x_test, y_train, y_test = train_test_split(x_input, y, test_size=0.2, random_state=42)\n",
        "\n",
        "from imblearn.over_sampling import SMOTE\n",
        "oversample = SMOTE()\n",
        "\n",
        "x_train = x_train.reshape(-1, 1500)\n",
        "x_train, y_train = oversample.fit_resample(x_train, y_train)\n",
        "x_train = x_train.reshape(-1, 30, 50)\n",
        "x_train.shape, y_train.shape"
      ],
      "execution_count": null,
      "outputs": [
        {
          "name": "stderr",
          "output_type": "stream",
          "text": [
            "/usr/local/lib/python3.7/dist-packages/sklearn/utils/deprecation.py:87: FutureWarning: Function safe_indexing is deprecated; safe_indexing is deprecated in version 0.22 and will be removed in version 0.24.\n",
            "  warnings.warn(msg, category=FutureWarning)\n",
            "/usr/local/lib/python3.7/dist-packages/sklearn/utils/deprecation.py:87: FutureWarning: Function safe_indexing is deprecated; safe_indexing is deprecated in version 0.22 and will be removed in version 0.24.\n",
            "  warnings.warn(msg, category=FutureWarning)\n",
            "/usr/local/lib/python3.7/dist-packages/sklearn/utils/deprecation.py:87: FutureWarning: Function safe_indexing is deprecated; safe_indexing is deprecated in version 0.22 and will be removed in version 0.24.\n",
            "  warnings.warn(msg, category=FutureWarning)\n",
            "/usr/local/lib/python3.7/dist-packages/sklearn/utils/deprecation.py:87: FutureWarning: Function safe_indexing is deprecated; safe_indexing is deprecated in version 0.22 and will be removed in version 0.24.\n",
            "  warnings.warn(msg, category=FutureWarning)\n"
          ]
        },
        {
          "data": {
            "text/plain": [
              "((133140, 30, 50), (133140, 5))"
            ]
          },
          "execution_count": 53,
          "metadata": {
            "tags": []
          },
          "output_type": "execute_result"
        }
      ]
    },
    {
      "cell_type": "code",
      "metadata": {
        "colab": {
          "base_uri": "https://localhost:8080/"
        },
        "id": "RZ6VV78IwZdk",
        "outputId": "14ffa3db-c966-472e-b14d-4453c8efd1f1"
      },
      "source": [
        "from keras.models import Sequential \n",
        "from keras.layers import LSTM, Dense, Dropout, Bidirectional\n",
        "from tensorflow.keras.callbacks import EarlyStopping\n",
        "\n",
        "bi_lstm_model = Sequential()\n",
        "bi_lstm_model.add(Bidirectional(LSTM(units = 64,  dropout=0.2, recurrent_dropout=0.2), input_shape = (30,50)))\n",
        "bi_lstm_model.add(Dense(5, activation='softmax'))\n",
        "bi_lstm_model.summary()"
      ],
      "execution_count": null,
      "outputs": [
        {
          "name": "stdout",
          "output_type": "stream",
          "text": [
            "Model: \"sequential\"\n",
            "_________________________________________________________________\n",
            "Layer (type)                 Output Shape              Param #   \n",
            "=================================================================\n",
            "bidirectional (Bidirectional (None, 128)               58880     \n",
            "_________________________________________________________________\n",
            "dense (Dense)                (None, 5)                 645       \n",
            "=================================================================\n",
            "Total params: 59,525\n",
            "Trainable params: 59,525\n",
            "Non-trainable params: 0\n",
            "_________________________________________________________________\n"
          ]
        }
      ]
    },
    {
      "cell_type": "code",
      "metadata": {
        "colab": {
          "base_uri": "https://localhost:8080/"
        },
        "id": "swZeCybCxluf",
        "outputId": "74d59c55-7816-4792-977f-d7cb393284c0"
      },
      "source": [
        "# compile the keras model\n",
        "bi_lstm_model.compile(loss='categorical_crossentropy', optimizer='adam', metrics=['accuracy'])\n",
        "bi_lstm_model.fit(x_train, y_train, validation_data=(x_test, y_test), epochs=20, batch_size=64, \n",
        "                  callbacks=EarlyStopping(monitor='val_loss', mode='min', patience=1, verbose=1))\n",
        "\n",
        "# evaluate the keras model\n",
        "_, accuracy = bi_lstm_model.evaluate(x_test, y_test)\n",
        "print('Accuracy on Test Data: %.2f' % (accuracy*100))"
      ],
      "execution_count": null,
      "outputs": [
        {
          "name": "stdout",
          "output_type": "stream",
          "text": [
            "Epoch 1/20\n",
            "2081/2081 [==============================] - 200s 94ms/step - loss: 1.2472 - accuracy: 0.4539 - val_loss: 0.9382 - val_accuracy: 0.6506\n",
            "Epoch 2/20\n",
            "2081/2081 [==============================] - 188s 90ms/step - loss: 0.9903 - accuracy: 0.5913 - val_loss: 0.9144 - val_accuracy: 0.6601\n",
            "Epoch 3/20\n",
            "2081/2081 [==============================] - 191s 92ms/step - loss: 0.8825 - accuracy: 0.6457 - val_loss: 0.8431 - val_accuracy: 0.6830\n",
            "Epoch 4/20\n",
            "2081/2081 [==============================] - 187s 90ms/step - loss: 0.8016 - accuracy: 0.6825 - val_loss: 0.8149 - val_accuracy: 0.6982\n",
            "Epoch 5/20\n",
            "2081/2081 [==============================] - 188s 90ms/step - loss: 0.7353 - accuracy: 0.7104 - val_loss: 0.8496 - val_accuracy: 0.6922\n",
            "Epoch 00005: early stopping\n",
            "313/313 [==============================] - 3s 10ms/step - loss: 0.8496 - accuracy: 0.6922\n",
            "Accuracy on Test Data: 69.22\n"
          ]
        }
      ]
    },
    {
      "cell_type": "code",
      "metadata": {
        "id": "-mG2NV7P-LTA"
      },
      "source": [
        "data_test = preprocess_data_test(df_test,dictionary)\n",
        "test_input = get_embedding_output(data_test)\n",
        "y_true = df_test['ratings'].values"
      ],
      "execution_count": null,
      "outputs": []
    },
    {
      "cell_type": "code",
      "metadata": {
        "colab": {
          "base_uri": "https://localhost:8080/"
        },
        "id": "IFya9a4RUfVj",
        "outputId": "0a8ff204-8e4a-4aa8-f22f-1f3129f58abb"
      },
      "source": [
        "y_pred_raw = bi_lstm_model.predict(test_input)\n",
        "y_pred = np.argmax(y_pred_raw,axis = -1)+1\n",
        "\n",
        "\n",
        "from sklearn import metrics\n",
        "# Print the precision and recall, among other metrics\n",
        "print(\"Precision, Recall, F1 Score, Support:\")\n",
        "print(metrics.classification_report(y_true, y_pred, digits=3))\n",
        "\n",
        "# Print the confusion matrix\n",
        "# print(\"Confusion Matrix:\")\n",
        "# print(metrics.confusion_matrix(y_true, y_test_pred))"
      ],
      "execution_count": null,
      "outputs": [
        {
          "name": "stdout",
          "output_type": "stream",
          "text": [
            "Precision, Recall, F1 Score, Support:\n",
            "              precision    recall  f1-score   support\n",
            "\n",
            "           1      0.581     0.605     0.593      1271\n",
            "           2      0.211     0.227     0.219       630\n",
            "           3      0.311     0.286     0.298       911\n",
            "           4      0.309     0.243     0.272      1404\n",
            "           5      0.813     0.851     0.832      5784\n",
            "\n",
            "    accuracy                          0.644     10000\n",
            "   macro avg      0.445     0.443     0.443     10000\n",
            "weighted avg      0.629     0.644     0.636     10000\n",
            "\n"
          ]
        }
      ]
    },
    {
      "cell_type": "markdown",
      "metadata": {
        "id": "Xkpv9g0K8YJJ"
      },
      "source": [
        "#BERT"
      ]
    },
    {
      "cell_type": "code",
      "metadata": {
        "colab": {
          "base_uri": "https://localhost:8080/"
        },
        "id": "wlUjWk7xukkM",
        "outputId": "214e5005-cee8-4909-f60b-906aa166a59d"
      },
      "source": [
        "!pip install transformers\n",
        "\n",
        "import tensorflow as tf\n",
        "import tensorflow_hub as hub\n",
        "from sklearn.model_selection import train_test_split\n",
        "import re\n",
        "import unicodedata\n",
        "import nltk\n",
        "from nltk.corpus import stopwords\n",
        "import keras\n",
        "from tqdm import tqdm\n",
        "import pickle\n",
        "from keras.models import Model\n",
        "import keras.backend as K\n",
        "from sklearn.metrics import confusion_matrix,f1_score,classification_report\n",
        "import matplotlib.pyplot as plt\n",
        "from keras.callbacks import ModelCheckpoint\n",
        "import itertools\n",
        "from keras.models import load_model\n",
        "from sklearn.utils import shuffle\n",
        "#from transformers import *\n",
        "from transformers import BertTokenizer, TFBertModel, BertConfig, TFBertForSequenceClassification"
      ],
      "execution_count": null,
      "outputs": [
        {
          "name": "stdout",
          "output_type": "stream",
          "text": [
            "Collecting transformers\n",
            "\u001b[?25l  Downloading https://files.pythonhosted.org/packages/b0/9e/5b80becd952d5f7250eaf8fc64b957077b12ccfe73e9c03d37146ab29712/transformers-4.6.0-py3-none-any.whl (2.3MB)\n",
            "\u001b[K     |████████████████████████████████| 2.3MB 5.1MB/s \n",
            "\u001b[?25hRequirement already satisfied: regex!=2019.12.17 in /usr/local/lib/python3.7/dist-packages (from transformers) (2019.12.20)\n",
            "Collecting sacremoses\n",
            "\u001b[?25l  Downloading https://files.pythonhosted.org/packages/75/ee/67241dc87f266093c533a2d4d3d69438e57d7a90abb216fa076e7d475d4a/sacremoses-0.0.45-py3-none-any.whl (895kB)\n",
            "\u001b[K     |████████████████████████████████| 901kB 25.7MB/s \n",
            "\u001b[?25hRequirement already satisfied: tqdm>=4.27 in /usr/local/lib/python3.7/dist-packages (from transformers) (4.41.1)\n",
            "Requirement already satisfied: filelock in /usr/local/lib/python3.7/dist-packages (from transformers) (3.0.12)\n",
            "Collecting huggingface-hub==0.0.8\n",
            "  Downloading https://files.pythonhosted.org/packages/a1/88/7b1e45720ecf59c6c6737ff332f41c955963090a18e72acbcbeac6b25e86/huggingface_hub-0.0.8-py3-none-any.whl\n",
            "Requirement already satisfied: numpy>=1.17 in /usr/local/lib/python3.7/dist-packages (from transformers) (1.19.5)\n",
            "Requirement already satisfied: importlib-metadata; python_version < \"3.8\" in /usr/local/lib/python3.7/dist-packages (from transformers) (4.0.1)\n",
            "Collecting tokenizers<0.11,>=0.10.1\n",
            "\u001b[?25l  Downloading https://files.pythonhosted.org/packages/ae/04/5b870f26a858552025a62f1649c20d29d2672c02ff3c3fb4c688ca46467a/tokenizers-0.10.2-cp37-cp37m-manylinux2010_x86_64.whl (3.3MB)\n",
            "\u001b[K     |████████████████████████████████| 3.3MB 47.4MB/s \n",
            "\u001b[?25hRequirement already satisfied: packaging in /usr/local/lib/python3.7/dist-packages (from transformers) (20.9)\n",
            "Requirement already satisfied: requests in /usr/local/lib/python3.7/dist-packages (from transformers) (2.23.0)\n",
            "Requirement already satisfied: click in /usr/local/lib/python3.7/dist-packages (from sacremoses->transformers) (7.1.2)\n",
            "Requirement already satisfied: six in /usr/local/lib/python3.7/dist-packages (from sacremoses->transformers) (1.15.0)\n",
            "Requirement already satisfied: joblib in /usr/local/lib/python3.7/dist-packages (from sacremoses->transformers) (1.0.1)\n",
            "Requirement already satisfied: typing-extensions>=3.6.4; python_version < \"3.8\" in /usr/local/lib/python3.7/dist-packages (from importlib-metadata; python_version < \"3.8\"->transformers) (3.7.4.3)\n",
            "Requirement already satisfied: zipp>=0.5 in /usr/local/lib/python3.7/dist-packages (from importlib-metadata; python_version < \"3.8\"->transformers) (3.4.1)\n",
            "Requirement already satisfied: pyparsing>=2.0.2 in /usr/local/lib/python3.7/dist-packages (from packaging->transformers) (2.4.7)\n",
            "Requirement already satisfied: urllib3!=1.25.0,!=1.25.1,<1.26,>=1.21.1 in /usr/local/lib/python3.7/dist-packages (from requests->transformers) (1.24.3)\n",
            "Requirement already satisfied: chardet<4,>=3.0.2 in /usr/local/lib/python3.7/dist-packages (from requests->transformers) (3.0.4)\n",
            "Requirement already satisfied: idna<3,>=2.5 in /usr/local/lib/python3.7/dist-packages (from requests->transformers) (2.10)\n",
            "Requirement already satisfied: certifi>=2017.4.17 in /usr/local/lib/python3.7/dist-packages (from requests->transformers) (2020.12.5)\n",
            "Installing collected packages: sacremoses, huggingface-hub, tokenizers, transformers\n",
            "Successfully installed huggingface-hub-0.0.8 sacremoses-0.0.45 tokenizers-0.10.2 transformers-4.6.0\n"
          ]
        }
      ]
    },
    {
      "cell_type": "markdown",
      "metadata": {
        "id": "VPt0H2eY7gaM"
      },
      "source": [
        "##Pre-processing"
      ]
    },
    {
      "cell_type": "code",
      "metadata": {
        "id": "gg3_R3ZtvWd1"
      },
      "source": [
        "def unicode_to_ascii(s):\n",
        "    return ''.join(c for c in unicodedata.normalize('NFD', s) if unicodedata.category(c) != 'Mn')\n",
        "\n",
        "def clean_stopwords_shortwords(w):\n",
        "    stopwords_list=['i', 'me', 'my', 'myself', 'we', 'our', 'ours','ourselves','you',\"you're\",\"you've\",\"you'll\",\"you'd\",'your','yours',\n",
        " 'yourself','yourselves','he','him','his','himself','she',\"she's\",'her','hers','herself','it',\"it's\",'its','itself','they','them',\n",
        " 'their','theirs','themselves','what','which','who','whom','this','that',\"that'll\",'these','those','am','is','are','was','were',\n",
        " 'be','been','being','have','has','had','having','do','does','did','doing','a','an','the','and','if','or','because',\n",
        "  'as','until','while','of','at','by','for','with','about','against','between','into','through','during',\n",
        "  'before','after','above','below','to','from','up','down','in','out','on','off','over','under','again',\n",
        "  'further','then','once','here','there','when','where','why','how','all','any','both','each','few','more',\n",
        "  'most','other','some','such','only','own','same','so','than',\n",
        "  'too','very','s','t','can','will','just','should',\"should've\",'now','d','ll','m','o','re','ve','y']\n",
        "    words = w.split() \n",
        "    clean_words = [word for word in words if (word not in stopwords_list) and len(word) > 2]\n",
        "    return \" \".join(clean_words) \n",
        "\n",
        "def preprocess_sentence(w):\n",
        "    w = unicode_to_ascii(w.lower().strip())\n",
        "    w = re.sub(r\"([?.!,¿])\", r\" \", w)\n",
        "    w = re.sub(r'[\" \"]+', \" \", w)\n",
        "    w = re.sub(r\"[^a-zA-Z?.!,¿]+\", \" \", w)\n",
        "    w=clean_stopwords_shortwords(w)\n",
        "    w=re.sub(r'@\\w+', '',w)\n",
        "    return w"
      ],
      "execution_count": null,
      "outputs": []
    },
    {
      "cell_type": "code",
      "metadata": {
        "colab": {
          "base_uri": "https://localhost:8080/"
        },
        "id": "IGaefspHwNw9",
        "outputId": "7636b101-de33-4c68-d97d-9de1984fed4b"
      },
      "source": [
        "data=data.dropna()                                                           # Drop NaN valuues, if any\n",
        "data=data.reset_index(drop=True)                                             # Reset index after dropping the columns/rows with NaN values\n",
        "data = shuffle(data)                                                         # Shuffle the dataset\n",
        "print('Available labels: ',data.ratings.unique())                              # Print all the unique labels in the dataset\n",
        "data['reviews']=data['reviews'].map(preprocess_sentence)                           # Clean the text column using preprocess_sentence function defined above"
      ],
      "execution_count": null,
      "outputs": [
        {
          "name": "stdout",
          "output_type": "stream",
          "text": [
            "Available labels:  [1 5 4 2 3]\n"
          ]
        }
      ]
    },
    {
      "cell_type": "code",
      "metadata": {
        "id": "4WKD2jaaxrtc"
      },
      "source": [
        "num_classes=len(data.ratings.unique())\n",
        "bert_tokenizer = BertTokenizer.from_pretrained(\"bert-base-uncased\")"
      ],
      "execution_count": null,
      "outputs": []
    },
    {
      "cell_type": "code",
      "metadata": {
        "colab": {
          "base_uri": "https://localhost:8080/"
        },
        "id": "um_maqUC0spl",
        "outputId": "eca5c503-c040-47ce-c55c-33a7dfb20811"
      },
      "source": [
        "sent= 'how to train the model, lets look at how a trained model calculates its prediction.'\n",
        "tokens=bert_tokenizer.tokenize(sent)\n",
        "print('Tokens:',tokens,'\\n')\n",
        "\n",
        "tokenized_sequence= bert_tokenizer.encode_plus(sent,add_special_tokens = True,max_length =30, padding='max_length',\n",
        "return_attention_mask = True)\n",
        "tokenized_sequence"
      ],
      "execution_count": null,
      "outputs": [
        {
          "name": "stdout",
          "output_type": "stream",
          "text": [
            "Tokens: ['how', 'to', 'train', 'the', 'model', ',', 'lets', 'look', 'at', 'how', 'a', 'trained', 'model', 'calculate', '##s', 'its', 'prediction', '.'] \n",
            "\n"
          ]
        },
        {
          "data": {
            "text/plain": [
              "{'input_ids': [101, 2129, 2000, 3345, 1996, 2944, 1010, 11082, 2298, 2012, 2129, 1037, 4738, 2944, 18422, 2015, 2049, 17547, 1012, 102, 0, 0, 0, 0, 0, 0, 0, 0, 0, 0], 'token_type_ids': [0, 0, 0, 0, 0, 0, 0, 0, 0, 0, 0, 0, 0, 0, 0, 0, 0, 0, 0, 0, 0, 0, 0, 0, 0, 0, 0, 0, 0, 0], 'attention_mask': [1, 1, 1, 1, 1, 1, 1, 1, 1, 1, 1, 1, 1, 1, 1, 1, 1, 1, 1, 1, 0, 0, 0, 0, 0, 0, 0, 0, 0, 0]}"
            ]
          },
          "execution_count": 7,
          "metadata": {
            "tags": []
          },
          "output_type": "execute_result"
        }
      ]
    },
    {
      "cell_type": "code",
      "metadata": {
        "colab": {
          "base_uri": "https://localhost:8080/",
          "height": 35
        },
        "id": "EamYgdpm1_4B",
        "outputId": "6d6f846c-7ea8-4083-857d-672426015c52"
      },
      "source": [
        "bert_tokenizer.decode(tokenized_sequence['input_ids'])"
      ],
      "execution_count": null,
      "outputs": [
        {
          "data": {
            "application/vnd.google.colaboratory.intrinsic+json": {
              "type": "string"
            },
            "text/plain": [
              "'[CLS] how to train the model, lets look at how a trained model calculates its prediction. [SEP] [PAD] [PAD] [PAD] [PAD] [PAD] [PAD] [PAD] [PAD] [PAD] [PAD]'"
            ]
          },
          "execution_count": 8,
          "metadata": {
            "tags": []
          },
          "output_type": "execute_result"
        }
      ]
    },
    {
      "cell_type": "markdown",
      "metadata": {
        "id": "IW9ewS2Y641R"
      },
      "source": [
        "##Fine-tuning and Training Model"
      ]
    },
    {
      "cell_type": "code",
      "metadata": {
        "id": "475_I0Zo21QC"
      },
      "source": [
        "reviews = data['reviews']\n",
        "ratings = data['ratings'].values"
      ],
      "execution_count": null,
      "outputs": []
    },
    {
      "cell_type": "code",
      "metadata": {
        "colab": {
          "base_uri": "https://localhost:8080/"
        },
        "id": "AZHYDrxC2knV",
        "outputId": "5dcb93b0-2908-47df-da82-768a3523d71b"
      },
      "source": [
        "input_ids=[]\n",
        "attention_masks=[]\n",
        "\n",
        "for review in reviews:\n",
        "    bert_inp=bert_tokenizer.encode_plus(review, add_special_tokens = True, max_length=50, padding='max_length', return_attention_mask = True)\n",
        "    input_ids.append(bert_inp['input_ids'])\n",
        "    attention_masks.append(bert_inp['attention_mask'])\n",
        "\n",
        "input_ids=np.asarray(input_ids)\n",
        "attention_masks=np.array(attention_masks)\n",
        "labels = ratings-1\n",
        "\n",
        "len(input_ids),len(attention_masks),len(labels)"
      ],
      "execution_count": null,
      "outputs": [
        {
          "data": {
            "text/plain": [
              "(50000, 50000, 50000)"
            ]
          },
          "execution_count": 125,
          "metadata": {
            "tags": []
          },
          "output_type": "execute_result"
        }
      ]
    },
    {
      "cell_type": "code",
      "metadata": {
        "colab": {
          "base_uri": "https://localhost:8080/"
        },
        "id": "p8tR18Mq31fB",
        "outputId": "7688944b-1092-47a5-8aeb-d479af3802aa"
      },
      "source": [
        "train_inp,val_inp,train_label,val_label,train_mask,val_mask=train_test_split(input_ids,labels,attention_masks,test_size=0.2)\n",
        "\n",
        "print('Train inp shape {} Val input shape {}\\nTrain label shape {} Val label shape {}\\nTrain attention mask shape {} Val attention mask shape {}'.format(train_inp.shape,val_inp.shape,train_label.shape,val_label.shape,train_mask.shape,val_mask.shape))"
      ],
      "execution_count": null,
      "outputs": [
        {
          "name": "stdout",
          "output_type": "stream",
          "text": [
            "Train inp shape (40000, 50) Val input shape (10000, 50)\n",
            "Train label shape (40000,) Val label shape (10000,)\n",
            "Train attention mask shape (40000, 50) Val attention mask shape (10000, 50)\n"
          ]
        }
      ]
    },
    {
      "cell_type": "code",
      "metadata": {
        "colab": {
          "base_uri": "https://localhost:8080/"
        },
        "id": "yxgpz_bN4-bd",
        "outputId": "d700061f-3385-4829-f1d2-e12c94978193"
      },
      "source": [
        "bert_model = TFBertForSequenceClassification.from_pretrained('bert-base-uncased',num_labels=num_classes)\n",
        "\n",
        "model_save_path='/content/drive/MyDrive/DL4NLP/'+File_name+'.h5'\n",
        "callbacks = [tf.keras.callbacks.ModelCheckpoint(filepath=model_save_path,save_weights_only=True,monitor='val_loss',mode='min',save_best_only=True)]\n",
        "\n",
        "print('\\nBert Model',bert_model.summary())\n",
        "loss = tf.keras.losses.SparseCategoricalCrossentropy(from_logits=True)\n",
        "metric = tf.keras.metrics.SparseCategoricalAccuracy('accuracy')\n",
        "optimizer = tf.keras.optimizers.Adam(learning_rate=2e-5,epsilon=1e-08)\n",
        "\n",
        "bert_model.compile(loss=loss,optimizer=optimizer,metrics=[metric])"
      ],
      "execution_count": null,
      "outputs": [
        {
          "name": "stderr",
          "output_type": "stream",
          "text": [
            "All model checkpoint layers were used when initializing TFBertForSequenceClassification.\n",
            "\n",
            "Some layers of TFBertForSequenceClassification were not initialized from the model checkpoint at bert-base-uncased and are newly initialized: ['classifier']\n",
            "You should probably TRAIN this model on a down-stream task to be able to use it for predictions and inference.\n"
          ]
        },
        {
          "name": "stdout",
          "output_type": "stream",
          "text": [
            "Model: \"tf_bert_for_sequence_classification_1\"\n",
            "_________________________________________________________________\n",
            "Layer (type)                 Output Shape              Param #   \n",
            "=================================================================\n",
            "bert (TFBertMainLayer)       multiple                  109482240 \n",
            "_________________________________________________________________\n",
            "dropout_75 (Dropout)         multiple                  0         \n",
            "_________________________________________________________________\n",
            "classifier (Dense)           multiple                  3845      \n",
            "=================================================================\n",
            "Total params: 109,486,085\n",
            "Trainable params: 109,486,085\n",
            "Non-trainable params: 0\n",
            "_________________________________________________________________\n",
            "\n",
            "Bert Model None\n"
          ]
        }
      ]
    },
    {
      "cell_type": "code",
      "metadata": {
        "colab": {
          "base_uri": "https://localhost:8080/",
          "height": 606
        },
        "id": "lZ3hoW5r51-K",
        "outputId": "383ca3b7-1122-4138-c4df-d941e7abad20"
      },
      "source": [
        "history=bert_model.fit([train_inp,train_mask],train_label,batch_size=128,epochs=4,validation_data=([val_inp,val_mask],val_label),callbacks=callbacks)"
      ],
      "execution_count": null,
      "outputs": [
        {
          "name": "stdout",
          "output_type": "stream",
          "text": [
            "Epoch 1/4\n",
            "WARNING:tensorflow:The parameters `output_attentions`, `output_hidden_states` and `use_cache` cannot be updated when calling a model.They have to be set to True/False in the config object (i.e.: `config=XConfig.from_pretrained('name', output_attentions=True)`).\n",
            "WARNING:tensorflow:The parameter `return_dict` cannot be set in graph mode and will always be set to `True`.\n",
            "WARNING:tensorflow:The parameters `output_attentions`, `output_hidden_states` and `use_cache` cannot be updated when calling a model.They have to be set to True/False in the config object (i.e.: `config=XConfig.from_pretrained('name', output_attentions=True)`).\n",
            "WARNING:tensorflow:The parameter `return_dict` cannot be set in graph mode and will always be set to `True`.\n",
            "313/313 [==============================] - ETA: 0s - loss: 0.9677 - accuracy: 0.6533WARNING:tensorflow:The parameters `output_attentions`, `output_hidden_states` and `use_cache` cannot be updated when calling a model.They have to be set to True/False in the config object (i.e.: `config=XConfig.from_pretrained('name', output_attentions=True)`).\n",
            "WARNING:tensorflow:The parameter `return_dict` cannot be set in graph mode and will always be set to `True`.\n",
            "313/313 [==============================] - 1035s 3s/step - loss: 0.9672 - accuracy: 0.6535 - val_loss: 0.6464 - val_accuracy: 0.7552\n",
            "Epoch 2/4\n",
            "313/313 [==============================] - 953s 3s/step - loss: 0.6365 - accuracy: 0.7581 - val_loss: 0.6294 - val_accuracy: 0.7628\n",
            "Epoch 3/4\n",
            "313/313 [==============================] - 911s 3s/step - loss: 0.5534 - accuracy: 0.7886 - val_loss: 0.6378 - val_accuracy: 0.7677\n",
            "Epoch 4/4\n",
            "313/313 [==============================] - 899s 3s/step - loss: 0.4710 - accuracy: 0.8214 - val_loss: 0.6749 - val_accuracy: 0.7622\n"
          ]
        },
        {
          "data": {
            "image/png": "[encoded data removed]",
            "text/plain": [
              "<Figure size 576x360 with 1 Axes>"
            ]
          },
          "metadata": {
            "tags": []
          },
          "output_type": "display_data"
        }
      ]
    },
    {
      "cell_type": "code",
      "metadata": {
        "id": "IXJr8adYNBUq"
      },
      "source": [
        "df_test=df_test.dropna()                                                           # Drop NaN valuues, if any\n",
        "df_test=df_test.reset_index(drop=True)                                             # Reset index after dropping the columns/rows with NaN values                            # Print all the unique labels in the dataset\n",
        "df_test['reviews']=df_test['reviews'].map(preprocess_sentence)  \n",
        "\n",
        "test_ids=[]\n",
        "test_masks=[]\n",
        "\n",
        "test_reviews = df_test['reviews']\n",
        "for review in test_reviews:\n",
        "    bert_inp=bert_tokenizer.encode_plus(review, add_special_tokens = True, max_length=50, padding='max_length', return_attention_mask = True)\n",
        "    test_ids.append(bert_inp['input_ids'])\n",
        "    test_masks.append(bert_inp['attention_mask'])\n",
        "\n",
        "test_ids=np.asarray(test_ids)\n",
        "test_masks=np.array(test_masks)\n",
        "test_labels = df_test['ratings'].values - 1\n"
      ],
      "execution_count": null,
      "outputs": []
    },
    {
      "cell_type": "code",
      "metadata": {
        "colab": {
          "base_uri": "https://localhost:8080/"
        },
        "id": "qQUGmYQjQ-Q8",
        "outputId": "e8ef2f36-1e69-4abe-c699-b2c7ddd2006c"
      },
      "source": [
        "preds = bert_model.predict([test_ids,test_masks])\n",
        "pred_labels = preds.logits.argmax(axis=1)\n",
        "f1 = f1_score(test_labels,pred_labels, average='weighted')\n",
        "print('F1 score',f1)\n",
        "print('Classification Report')\n",
        "print(classification_report(test_labels,pred_labels))\n",
        "\n",
        "from sklearn import metrics\n",
        "print(metrics.confusion_matrix(test_labels, pred_labels))"
      ],
      "execution_count": null,
      "outputs": [
        {
          "name": "stdout",
          "output_type": "stream",
          "text": [
            "WARNING:tensorflow:The parameters `output_attentions`, `output_hidden_states` and `use_cache` cannot be updated when calling a model.They have to be set to True/False in the config object (i.e.: `config=XConfig.from_pretrained('name', output_attentions=True)`).\n",
            "WARNING:tensorflow:The parameter `return_dict` cannot be set in graph mode and will always be set to `True`.\n",
            "F1 score 0.6919871081154714\n",
            "Classification Report\n",
            "              precision    recall  f1-score   support\n",
            "\n",
            "           0       0.73      0.60      0.66      1271\n",
            "           1       0.29      0.20      0.23       630\n",
            "           2       0.37      0.35      0.36       911\n",
            "           3       0.39      0.36      0.37      1404\n",
            "           4       0.84      0.92      0.88      5784\n",
            "\n",
            "    accuracy                           0.70     10000\n",
            "   macro avg       0.52      0.49      0.50     10000\n",
            "weighted avg       0.68      0.70      0.69     10000\n",
            "\n",
            "[[ 762  196  176   50   87]\n",
            " [ 179  123  185   83   60]\n",
            " [  62   90  315  312  132]\n",
            " [  20   14  115  509  746]\n",
            " [  17    8   55  365 5339]]\n"
          ]
        }
      ]
    },
    {
      "cell_type": "markdown",
      "metadata": {
        "id": "s_Om74ebVEUJ"
      },
      "source": [
        "##Loading Trained model"
      ]
    },
    {
      "cell_type": "code",
      "metadata": {
        "colab": {
          "base_uri": "https://localhost:8080/",
          "height": 182
        },
        "id": "r_SDJjQkQymk",
        "outputId": "f6d10502-657d-441d-c7e6-b804d4118ffe"
      },
      "source": [
        "trained_model = TFBertForSequenceClassification.from_pretrained('bert-base-uncased',num_labels=5)\n",
        "loss = tf.keras.losses.SparseCategoricalCrossentropy(from_logits=True)\n",
        "metric = tf.keras.metrics.SparseCategoricalAccuracy('accuracy')\n",
        "optimizer = tf.keras.optimizers.Adam(learning_rate=2e-5,epsilon=1e-08)\n",
        "trained_model.compile(loss=loss,optimizer=optimizer, metrics=[metric])\n",
        "\n",
        "model_save_path='/content/drive/MyDrive/DL4NLP/bert_model.h5'\n",
        "trained_model.load_weights(model_save_path)"
      ],
      "execution_count": null,
      "outputs": [
        {
          "data": {
            "application/vnd.jupyter.widget-view+json": {
              "model_id": "7bab7b1409f0483b9db793b188dfdf4a",
              "version_major": 2,
              "version_minor": 0
            },
            "text/plain": [
              "HBox(children=(FloatProgress(value=0.0, description='Downloading', max=570.0, style=ProgressStyle(description_…"
            ]
          },
          "metadata": {
            "tags": []
          },
          "output_type": "display_data"
        },
        {
          "name": "stdout",
          "output_type": "stream",
          "text": [
            "\n"
          ]
        },
        {
          "data": {
            "application/vnd.jupyter.widget-view+json": {
              "model_id": "50cae71503ad47ad895da43898139e80",
              "version_major": 2,
              "version_minor": 0
            },
            "text/plain": [
              "HBox(children=(FloatProgress(value=0.0, description='Downloading', max=536063208.0, style=ProgressStyle(descri…"
            ]
          },
          "metadata": {
            "tags": []
          },
          "output_type": "display_data"
        },
        {
          "name": "stdout",
          "output_type": "stream",
          "text": [
            "\n"
          ]
        },
        {
          "name": "stderr",
          "output_type": "stream",
          "text": [
            "All model checkpoint layers were used when initializing TFBertForSequenceClassification.\n",
            "\n",
            "Some layers of TFBertForSequenceClassification were not initialized from the model checkpoint at bert-base-uncased and are newly initialized: ['classifier']\n",
            "You should probably TRAIN this model on a down-stream task to be able to use it for predictions and inference.\n"
          ]
        }
      ]
    },
    {
      "cell_type": "markdown",
      "metadata": {
        "id": "O_1Z5Vf5-bkL"
      },
      "source": [
        "##Find Predictions"
      ]
    },
    {
      "cell_type": "code",
      "metadata": {
        "id": "FohQiMd23r2e"
      },
      "source": [
        "df_test=df_test.dropna()                                                           # Drop NaN valuues, if any\n",
        "df_test=df_test.reset_index(drop=True)                                             # Reset index after dropping the columns/rows with NaN values                            # Print all the unique labels in the dataset\n",
        "df_test['reviews']=df_test['reviews'].map(preprocess_sentence)  \n",
        "\n",
        "test_ids=[]\n",
        "test_masks=[]\n",
        "\n",
        "test_reviews = df_test['reviews']\n",
        "for review in test_reviews:\n",
        "    bert_inp=bert_tokenizer.encode_plus(review, add_special_tokens = True, max_length=50, padding='max_length', return_attention_mask = True)\n",
        "    test_ids.append(bert_inp['input_ids'])\n",
        "    test_masks.append(bert_inp['attention_mask'])\n",
        "\n",
        "test_ids=np.asarray(test_ids)\n",
        "test_masks=np.array(test_masks)\n",
        "test_labels = df_test['ratings'].values - 1"
      ],
      "execution_count": null,
      "outputs": []
    },
    {
      "cell_type": "code",
      "metadata": {
        "colab": {
          "base_uri": "https://localhost:8080/"
        },
        "id": "4G3MF3T4SRjx",
        "outputId": "17b88eb8-d64c-4c16-92be-f6d4ba32c8c9"
      },
      "source": [
        "preds = trained_model.predict([test_ids,test_masks])\n",
        "pred_labels = preds.logits.argmax(axis=1)\n",
        "f1 = f1_score(test_labels,pred_labels, average='weighted')\n",
        "print('F1 score',f1)\n",
        "print('Classification Report')\n",
        "print(classification_report(test_labels,pred_labels))\n",
        "\n",
        "from sklearn import metrics\n",
        "print(metrics.confusion_matrix(test_labels, pred_labels))"
      ],
      "execution_count": null,
      "outputs": [
        {
          "name": "stdout",
          "output_type": "stream",
          "text": [
            "WARNING:tensorflow:The parameters `output_attentions`, `output_hidden_states` and `use_cache` cannot be updated when calling a model.They have to be set to True/False in the config object (i.e.: `config=XConfig.from_pretrained('name', output_attentions=True)`).\n",
            "WARNING:tensorflow:AutoGraph could not transform <bound method Socket.send of <zmq.sugar.socket.Socket object at 0x7f6351f4bde0>> and will run it as-is.\n",
            "Please report this to the TensorFlow team. When filing the bug, set the verbosity to 10 (on Linux, `export AUTOGRAPH_VERBOSITY=10`) and attach the full output.\n",
            "Cause: module, class, method, function, traceback, frame, or code object was expected, got cython_function_or_method\n",
            "To silence this warning, decorate the function with @tf.autograph.experimental.do_not_convert\n",
            "WARNING: AutoGraph could not transform <bound method Socket.send of <zmq.sugar.socket.Socket object at 0x7f6351f4bde0>> and will run it as-is.\n",
            "Please report this to the TensorFlow team. When filing the bug, set the verbosity to 10 (on Linux, `export AUTOGRAPH_VERBOSITY=10`) and attach the full output.\n",
            "Cause: module, class, method, function, traceback, frame, or code object was expected, got cython_function_or_method\n",
            "To silence this warning, decorate the function with @tf.autograph.experimental.do_not_convert\n",
            "WARNING:tensorflow:AutoGraph could not transform <function wrap at 0x7f636d7f6d40> and will run it as-is.\n",
            "Cause: while/else statement not yet supported\n",
            "To silence this warning, decorate the function with @tf.autograph.experimental.do_not_convert\n",
            "WARNING: AutoGraph could not transform <function wrap at 0x7f636d7f6d40> and will run it as-is.\n",
            "Cause: while/else statement not yet supported\n",
            "To silence this warning, decorate the function with @tf.autograph.experimental.do_not_convert\n",
            "WARNING:tensorflow:The parameter `return_dict` cannot be set in graph mode and will always be set to `True`.\n",
            "F1 score 0.6994296603710766\n",
            "Classification Report\n",
            "              precision    recall  f1-score   support\n",
            "\n",
            "           0       0.70      0.70      0.70      1271\n",
            "           1       0.32      0.26      0.28       630\n",
            "           2       0.38      0.41      0.39       911\n",
            "           3       0.46      0.25      0.32      1404\n",
            "           4       0.84      0.94      0.88      5784\n",
            "\n",
            "    accuracy                           0.72     10000\n",
            "   macro avg       0.54      0.51      0.52     10000\n",
            "weighted avg       0.69      0.72      0.70     10000\n",
            "\n",
            "[[ 896  174  124   10   67]\n",
            " [ 209  161  168   32   60]\n",
            " [ 103  127  369  169  143]\n",
            " [  24   26  212  353  789]\n",
            " [  44   22   98  207 5413]]\n"
          ]
        }
      ]
    },
    {
      "cell_type": "code",
      "metadata": {
        "colab": {
          "base_uri": "https://localhost:8080/",
          "height": 475
        },
        "id": "Dwzv3G40tWxm",
        "outputId": "529fc16b-6202-4bc5-81d0-508355e1afb0"
      },
      "source": [
        "import seaborn as sn\n",
        "import matplotlib.pyplot as plt\n",
        "%matplotlib inline\n",
        "\n",
        "data = metrics.confusion_matrix(test_labels, pred_labels)\n",
        "df_cm = pd.DataFrame(data, columns=np.unique(test_labels+1), index = np.unique(test_labels+1))\n",
        "df_cm.index.name = 'Actual'\n",
        "df_cm.columns.name = 'Predicted'\n",
        "plt.figure(figsize = (10,7))\n",
        "sn.set(font_scale=1.4)#for label size\n",
        "# sn.heatmap(df_cm, cmap=\"Blues\", annot=True,annot_kws={\"size\": 16}, fmt='d')# font size\n",
        "sn.heatmap(df_cm, annot=True,fmt='d')"
      ],
      "execution_count": null,
      "outputs": [
        {
          "data": {
            "text/plain": [
              "<matplotlib.axes._subplots.AxesSubplot at 0x7f1609a61190>"
            ]
          },
          "execution_count": 28,
          "metadata": {
            "tags": []
          },
          "output_type": "execute_result"
        },
        {
          "data": {
            "image/png": "[encoded data removed]",
            "text/plain": [
              "<Figure size 720x504 with 2 Axes>"
            ]
          },
          "metadata": {
            "tags": []
          },
          "output_type": "display_data"
        }
      ]
    },
    {
      "cell_type": "code",
      "metadata": {
        "colab": {
          "base_uri": "https://localhost:8080/",
          "height": 458
        },
        "id": "LBITqgMlySvv",
        "outputId": "3e133286-e019-4aee-c97a-110c2cc21e8f"
      },
      "source": [
        "bert_f1 = f1_score(test_labels,pred_labels, average=None)\n",
        "\n",
        "ind = np.arange(5) + 1 \n",
        "width = 0.3\n",
        "\n",
        "plt.figure(figsize=(12,7))\n",
        "plt.bar(ind, bert_f1 , width, label='BERT')\n",
        "\n",
        "plt.xticks(ind, labels = ind)\n",
        "\n",
        "plt.xlabel('Rating')\n",
        "plt.ylabel('F1-Score')\n",
        "plt.title('Class wise F1-Score')\n",
        "\n",
        "# Finding the best position for legends and putting it\n",
        "plt.legend(loc='best')\n",
        "plt.show()"
      ],
      "execution_count": null,
      "outputs": [
        {
          "data": {
            "image/png": "[encoded data removed]",
            "text/plain": [
              "<Figure size 864x504 with 1 Axes>"
            ]
          },
          "metadata": {
            "tags": []
          },
          "output_type": "display_data"
        }
      ]
    },
    {
      "cell_type": "code",
      "metadata": {
        "id": "S03W2ITkYnn-"
      },
      "source": [
        "y_test_pred = pred_labels + 1\n",
        "\n",
        "# convert array into dataframe \n",
        "DF = pd.DataFrame(y_test_pred) \n",
        "  \n",
        "# save the dataframe as a csv file \n",
        "DF.to_csv(\"predictions.csv\")"
      ],
      "execution_count": null,
      "outputs": []
    },
    {
      "cell_type": "markdown",
      "metadata": {
        "id": "KdF7UvZD-g8v"
      },
      "source": [
        "#Lime"
      ]
    },
    {
      "cell_type": "code",
      "metadata": {
        "id": "q6kPmlPiAkCg"
      },
      "source": [
        "def softmax(vector):\n",
        "\te = np.exp(vector)\n",
        "\treturn e / np.sum(e)\n",
        "\n",
        "def softmax1(x):\n",
        "  for i in range(len(x)):\n",
        "    x[i] = softmax(x[i])\n",
        "  return x \n",
        "\n",
        "def get_bert_input(review):\n",
        "  tokenize_inp = bert_tokenizer.encode_plus(preprocess_sentence(review), add_special_tokens = True, max_length=50, padding='max_length', return_attention_mask = True)\n",
        "  id = np.array(tokenize_inp['input_ids']).reshape(1,-1)\n",
        "  mask = np.array(tokenize_inp['attention_mask']).reshape(1,-1)\n",
        "  bert_input = [id,mask]\n",
        "  return bert_input\n",
        "\n",
        "#for single prediction\n",
        "def get_prediction(review):\n",
        "  bert_input = get_bert_input(review)\n",
        "  bert_output = trained_model.predict(bert_input)\n",
        "  probs = softmax(bert_output.logits)[0]\n",
        "  return probs"
      ],
      "execution_count": null,
      "outputs": []
    },
    {
      "cell_type": "code",
      "metadata": {
        "id": "9y8_3Q8oO5l_"
      },
      "source": [
        "def predictions(test_reviews):\n",
        "   ids = []\n",
        "   masks = []\n",
        "   for review in test_reviews:\n",
        "     bert_inp=bert_tokenizer.encode_plus(preprocess_sentence(review), add_special_tokens = True, max_length=50, padding='max_length', return_attention_mask = True)\n",
        "     ids.append(bert_inp['input_ids'])\n",
        "     masks.append(bert_inp['attention_mask'])\n",
        "\n",
        "   ids=np.asarray(ids)\n",
        "   masks=np.array(masks)\n",
        "\n",
        "   bert_output = trained_model.predict([ids,masks])\n",
        "   probs = softmax1(bert_output.logits)\n",
        "   return probs"
      ],
      "execution_count": null,
      "outputs": []
    },
    {
      "cell_type": "code",
      "metadata": {
        "colab": {
          "base_uri": "https://localhost:8080/"
        },
        "id": "8l5nkdDhShaR",
        "outputId": "8373b8b9-89b3-4040-e485-47123c092d2a"
      },
      "source": [
        "review = \"This camera is awesome, I will not recommend this to anybody\"\n",
        "predictions([review])"
      ],
      "execution_count": null,
      "outputs": [
        {
          "name": "stdout",
          "output_type": "stream",
          "text": [
            "WARNING:tensorflow:The parameters `output_attentions`, `output_hidden_states` and `use_cache` cannot be updated when calling a model.They have to be set to True/False in the config object (i.e.: `config=XConfig.from_pretrained('name', output_attentions=True)`).\n",
            "WARNING:tensorflow:AutoGraph could not transform <bound method Socket.send of <zmq.sugar.socket.Socket object at 0x7f6512f4dde0>> and will run it as-is.\n",
            "Please report this to the TensorFlow team. When filing the bug, set the verbosity to 10 (on Linux, `export AUTOGRAPH_VERBOSITY=10`) and attach the full output.\n",
            "Cause: module, class, method, function, traceback, frame, or code object was expected, got cython_function_or_method\n",
            "To silence this warning, decorate the function with @tf.autograph.experimental.do_not_convert\n",
            "WARNING: AutoGraph could not transform <bound method Socket.send of <zmq.sugar.socket.Socket object at 0x7f6512f4dde0>> and will run it as-is.\n",
            "Please report this to the TensorFlow team. When filing the bug, set the verbosity to 10 (on Linux, `export AUTOGRAPH_VERBOSITY=10`) and attach the full output.\n",
            "Cause: module, class, method, function, traceback, frame, or code object was expected, got cython_function_or_method\n",
            "To silence this warning, decorate the function with @tf.autograph.experimental.do_not_convert\n",
            "WARNING:tensorflow:AutoGraph could not transform <function wrap at 0x7f652e7f6d40> and will run it as-is.\n",
            "Cause: while/else statement not yet supported\n",
            "To silence this warning, decorate the function with @tf.autograph.experimental.do_not_convert\n",
            "WARNING: AutoGraph could not transform <function wrap at 0x7f652e7f6d40> and will run it as-is.\n",
            "Cause: while/else statement not yet supported\n",
            "To silence this warning, decorate the function with @tf.autograph.experimental.do_not_convert\n",
            "WARNING:tensorflow:The parameter `return_dict` cannot be set in graph mode and will always be set to `True`.\n"
          ]
        },
        {
          "data": {
            "text/plain": [
              "array([[0.12311795, 0.04319275, 0.0467938 , 0.04887312, 0.7380224 ]],\n",
              "      dtype=float32)"
            ]
          },
          "execution_count": 15,
          "metadata": {
            "tags": []
          },
          "output_type": "execute_result"
        }
      ]
    },
    {
      "cell_type": "code",
      "metadata": {
        "colab": {
          "base_uri": "https://localhost:8080/",
          "height": 35
        },
        "id": "zEcD0NhNU5tW",
        "outputId": "86eff287-c4d1-44fd-d627-936f6bbb3fb2"
      },
      "source": [
        "preprocess_sentence(review)"
      ],
      "execution_count": null,
      "outputs": [
        {
          "data": {
            "application/vnd.google.colaboratory.intrinsic+json": {
              "type": "string"
            },
            "text/plain": [
              "'camera awesome not recommend anybody'"
            ]
          },
          "execution_count": 15,
          "metadata": {
            "tags": []
          },
          "output_type": "execute_result"
        }
      ]
    },
    {
      "cell_type": "code",
      "metadata": {
        "colab": {
          "base_uri": "https://localhost:8080/"
        },
        "id": "hl1JvramMjon",
        "outputId": "1a79c09c-61f5-4477-a18b-303f2e8b1474"
      },
      "source": [
        "!pip install lime\n",
        "import lime\n",
        "from lime import lime_text\n",
        "from lime.lime_text import LimeTextExplainer"
      ],
      "execution_count": null,
      "outputs": [
        {
          "name": "stdout",
          "output_type": "stream",
          "text": [
            "Collecting lime\n",
            "\u001b[?25l  Downloading https://files.pythonhosted.org/packages/f5/86/91a13127d83d793ecb50eb75e716f76e6eda809b6803c5a4ff462339789e/lime-0.2.0.1.tar.gz (275kB)\n",
            "\r\u001b[K     |█▏                              | 10kB 13.4MB/s eta 0:00:01\r\u001b[K     |██▍                             | 20kB 15.0MB/s eta 0:00:01\r\u001b[K     |███▋                            | 30kB 10.2MB/s eta 0:00:01\r\u001b[K     |████▊                           | 40kB 8.4MB/s eta 0:00:01\r\u001b[K     |██████                          | 51kB 5.3MB/s eta 0:00:01\r\u001b[K     |███████▏                        | 61kB 5.4MB/s eta 0:00:01\r\u001b[K     |████████▎                       | 71kB 6.1MB/s eta 0:00:01\r\u001b[K     |█████████▌                      | 81kB 6.0MB/s eta 0:00:01\r\u001b[K     |██████████▊                     | 92kB 5.9MB/s eta 0:00:01\r\u001b[K     |███████████▉                    | 102kB 6.5MB/s eta 0:00:01\r\u001b[K     |█████████████                   | 112kB 6.5MB/s eta 0:00:01\r\u001b[K     |██████████████▎                 | 122kB 6.5MB/s eta 0:00:01\r\u001b[K     |███████████████▌                | 133kB 6.5MB/s eta 0:00:01\r\u001b[K     |████████████████▋               | 143kB 6.5MB/s eta 0:00:01\r\u001b[K     |█████████████████▉              | 153kB 6.5MB/s eta 0:00:01\r\u001b[K     |███████████████████             | 163kB 6.5MB/s eta 0:00:01\r\u001b[K     |████████████████████▏           | 174kB 6.5MB/s eta 0:00:01\r\u001b[K     |█████████████████████▍          | 184kB 6.5MB/s eta 0:00:01\r\u001b[K     |██████████████████████▋         | 194kB 6.5MB/s eta 0:00:01\r\u001b[K     |███████████████████████▊        | 204kB 6.5MB/s eta 0:00:01\r\u001b[K     |█████████████████████████       | 215kB 6.5MB/s eta 0:00:01\r\u001b[K     |██████████████████████████▏     | 225kB 6.5MB/s eta 0:00:01\r\u001b[K     |███████████████████████████▍    | 235kB 6.5MB/s eta 0:00:01\r\u001b[K     |████████████████████████████▌   | 245kB 6.5MB/s eta 0:00:01\r\u001b[K     |█████████████████████████████▊  | 256kB 6.5MB/s eta 0:00:01\r\u001b[K     |███████████████████████████████ | 266kB 6.5MB/s eta 0:00:01\r\u001b[K     |████████████████████████████████| 276kB 6.5MB/s \n",
            "\u001b[?25hRequirement already satisfied: matplotlib in /usr/local/lib/python3.7/dist-packages (from lime) (3.2.2)\n",
            "Requirement already satisfied: numpy in /usr/local/lib/python3.7/dist-packages (from lime) (1.19.5)\n",
            "Requirement already satisfied: scipy in /usr/local/lib/python3.7/dist-packages (from lime) (1.4.1)\n",
            "Requirement already satisfied: tqdm in /usr/local/lib/python3.7/dist-packages (from lime) (4.41.1)\n",
            "Requirement already satisfied: scikit-learn>=0.18 in /usr/local/lib/python3.7/dist-packages (from lime) (0.22.2.post1)\n",
            "Requirement already satisfied: scikit-image>=0.12 in /usr/local/lib/python3.7/dist-packages (from lime) (0.16.2)\n",
            "Requirement already satisfied: pyparsing!=2.0.4,!=2.1.2,!=2.1.6,>=2.0.1 in /usr/local/lib/python3.7/dist-packages (from matplotlib->lime) (2.4.7)\n",
            "Requirement already satisfied: python-dateutil>=2.1 in /usr/local/lib/python3.7/dist-packages (from matplotlib->lime) (2.8.1)\n",
            "Requirement already satisfied: cycler>=0.10 in /usr/local/lib/python3.7/dist-packages (from matplotlib->lime) (0.10.0)\n",
            "Requirement already satisfied: kiwisolver>=1.0.1 in /usr/local/lib/python3.7/dist-packages (from matplotlib->lime) (1.3.1)\n",
            "Requirement already satisfied: joblib>=0.11 in /usr/local/lib/python3.7/dist-packages (from scikit-learn>=0.18->lime) (1.0.1)\n",
            "Requirement already satisfied: imageio>=2.3.0 in /usr/local/lib/python3.7/dist-packages (from scikit-image>=0.12->lime) (2.4.1)\n",
            "Requirement already satisfied: PyWavelets>=0.4.0 in /usr/local/lib/python3.7/dist-packages (from scikit-image>=0.12->lime) (1.1.1)\n",
            "Requirement already satisfied: networkx>=2.0 in /usr/local/lib/python3.7/dist-packages (from scikit-image>=0.12->lime) (2.5.1)\n",
            "Requirement already satisfied: pillow>=4.3.0 in /usr/local/lib/python3.7/dist-packages (from scikit-image>=0.12->lime) (7.1.2)\n",
            "Requirement already satisfied: six>=1.5 in /usr/local/lib/python3.7/dist-packages (from python-dateutil>=2.1->matplotlib->lime) (1.15.0)\n",
            "Requirement already satisfied: decorator<5,>=4.3 in /usr/local/lib/python3.7/dist-packages (from networkx>=2.0->scikit-image>=0.12->lime) (4.4.2)\n",
            "Building wheels for collected packages: lime\n",
            "  Building wheel for lime (setup.py) ... \u001b[?25l\u001b[?25hdone\n",
            "  Created wheel for lime: filename=lime-0.2.0.1-cp37-none-any.whl size=283846 sha256=e1415dd35a332f1d53d70244d26f12439661da0ab6777c5ad022ea80499dbe6a\n",
            "  Stored in directory: /root/.cache/pip/wheels/4c/4f/a5/0bc765457bd41378bf3ce8d17d7495369d6e7ca3b712c60c89\n",
            "Successfully built lime\n",
            "Installing collected packages: lime\n",
            "Successfully installed lime-0.2.0.1\n"
          ]
        }
      ]
    },
    {
      "cell_type": "code",
      "metadata": {
        "id": "Fs74svKWM29H"
      },
      "source": [
        "explainer = LimeTextExplainer(class_names=[1,2,3,4,5])"
      ],
      "execution_count": null,
      "outputs": []
    },
    {
      "cell_type": "code",
      "metadata": {
        "colab": {
          "base_uri": "https://localhost:8080/",
          "height": 320
        },
        "id": "kp8mLR6cS7xr",
        "outputId": "b97e8d53-cfe5-4855-e4a7-8d9d8cdc441f"
      },
      "source": [
        "exp = explainer.explain_instance(review, predictions, num_features=10, top_labels=1)\n",
        "exp.show_in_notebook(text=True)"
      ],
      "execution_count": null,
      "outputs": [
        {
          "ename": "KeyboardInterrupt",
          "evalue": "ignored",
          "output_type": "error",
          "traceback": [
            "\u001b[0;31m---------------------------------------------------------------------------\u001b[0m",
            "\u001b[0;31mKeyboardInterrupt\u001b[0m                         Traceback (most recent call last)",
            "\u001b[0;32m<ipython-input-18-5f4e7f75e0e4>\u001b[0m in \u001b[0;36m<module>\u001b[0;34m()\u001b[0m\n\u001b[0;32m----> 1\u001b[0;31m \u001b[0mexp\u001b[0m \u001b[0;34m=\u001b[0m \u001b[0mexplainer\u001b[0m\u001b[0;34m.\u001b[0m\u001b[0mexplain_instance\u001b[0m\u001b[0;34m(\u001b[0m\u001b[0mreview\u001b[0m\u001b[0;34m,\u001b[0m \u001b[0mpredictions\u001b[0m\u001b[0;34m,\u001b[0m \u001b[0mnum_features\u001b[0m\u001b[0;34m=\u001b[0m\u001b[0;36m10\u001b[0m\u001b[0;34m,\u001b[0m \u001b[0mtop_labels\u001b[0m\u001b[0;34m=\u001b[0m\u001b[0;36m1\u001b[0m\u001b[0;34m)\u001b[0m\u001b[0;34m\u001b[0m\u001b[0;34m\u001b[0m\u001b[0m\n\u001b[0m\u001b[1;32m      2\u001b[0m \u001b[0mexp\u001b[0m\u001b[0;34m.\u001b[0m\u001b[0mshow_in_notebook\u001b[0m\u001b[0;34m(\u001b[0m\u001b[0mtext\u001b[0m\u001b[0;34m=\u001b[0m\u001b[0;32mTrue\u001b[0m\u001b[0;34m)\u001b[0m\u001b[0;34m\u001b[0m\u001b[0;34m\u001b[0m\u001b[0m\n",
            "\u001b[0;32m/usr/local/lib/python3.7/dist-packages/lime/lime_text.py\u001b[0m in \u001b[0;36mexplain_instance\u001b[0;34m(self, text_instance, classifier_fn, labels, top_labels, num_features, num_samples, distance_metric, model_regressor)\u001b[0m\n\u001b[1;32m    413\u001b[0m         data, yss, distances = self.__data_labels_distances(\n\u001b[1;32m    414\u001b[0m             \u001b[0mindexed_string\u001b[0m\u001b[0;34m,\u001b[0m \u001b[0mclassifier_fn\u001b[0m\u001b[0;34m,\u001b[0m \u001b[0mnum_samples\u001b[0m\u001b[0;34m,\u001b[0m\u001b[0;34m\u001b[0m\u001b[0;34m\u001b[0m\u001b[0m\n\u001b[0;32m--> 415\u001b[0;31m             distance_metric=distance_metric)\n\u001b[0m\u001b[1;32m    416\u001b[0m         \u001b[0;32mif\u001b[0m \u001b[0mself\u001b[0m\u001b[0;34m.\u001b[0m\u001b[0mclass_names\u001b[0m \u001b[0;32mis\u001b[0m \u001b[0;32mNone\u001b[0m\u001b[0;34m:\u001b[0m\u001b[0;34m\u001b[0m\u001b[0;34m\u001b[0m\u001b[0m\n\u001b[1;32m    417\u001b[0m             \u001b[0mself\u001b[0m\u001b[0;34m.\u001b[0m\u001b[0mclass_names\u001b[0m \u001b[0;34m=\u001b[0m \u001b[0;34m[\u001b[0m\u001b[0mstr\u001b[0m\u001b[0;34m(\u001b[0m\u001b[0mx\u001b[0m\u001b[0;34m)\u001b[0m \u001b[0;32mfor\u001b[0m \u001b[0mx\u001b[0m \u001b[0;32min\u001b[0m \u001b[0mrange\u001b[0m\u001b[0;34m(\u001b[0m\u001b[0myss\u001b[0m\u001b[0;34m[\u001b[0m\u001b[0;36m0\u001b[0m\u001b[0;34m]\u001b[0m\u001b[0;34m.\u001b[0m\u001b[0mshape\u001b[0m\u001b[0;34m[\u001b[0m\u001b[0;36m0\u001b[0m\u001b[0;34m]\u001b[0m\u001b[0;34m)\u001b[0m\u001b[0;34m]\u001b[0m\u001b[0;34m\u001b[0m\u001b[0;34m\u001b[0m\u001b[0m\n",
            "\u001b[0;32m/usr/local/lib/python3.7/dist-packages/lime/lime_text.py\u001b[0m in \u001b[0;36m__data_labels_distances\u001b[0;34m(self, indexed_string, classifier_fn, num_samples, distance_metric)\u001b[0m\n\u001b[1;32m    480\u001b[0m             \u001b[0mdata\u001b[0m\u001b[0;34m[\u001b[0m\u001b[0mi\u001b[0m\u001b[0;34m,\u001b[0m \u001b[0minactive\u001b[0m\u001b[0;34m]\u001b[0m \u001b[0;34m=\u001b[0m \u001b[0;36m0\u001b[0m\u001b[0;34m\u001b[0m\u001b[0;34m\u001b[0m\u001b[0m\n\u001b[1;32m    481\u001b[0m             \u001b[0minverse_data\u001b[0m\u001b[0;34m.\u001b[0m\u001b[0mappend\u001b[0m\u001b[0;34m(\u001b[0m\u001b[0mindexed_string\u001b[0m\u001b[0;34m.\u001b[0m\u001b[0minverse_removing\u001b[0m\u001b[0;34m(\u001b[0m\u001b[0minactive\u001b[0m\u001b[0;34m)\u001b[0m\u001b[0;34m)\u001b[0m\u001b[0;34m\u001b[0m\u001b[0;34m\u001b[0m\u001b[0m\n\u001b[0;32m--> 482\u001b[0;31m         \u001b[0mlabels\u001b[0m \u001b[0;34m=\u001b[0m \u001b[0mclassifier_fn\u001b[0m\u001b[0;34m(\u001b[0m\u001b[0minverse_data\u001b[0m\u001b[0;34m)\u001b[0m\u001b[0;34m\u001b[0m\u001b[0;34m\u001b[0m\u001b[0m\n\u001b[0m\u001b[1;32m    483\u001b[0m         \u001b[0mdistances\u001b[0m \u001b[0;34m=\u001b[0m \u001b[0mdistance_fn\u001b[0m\u001b[0;34m(\u001b[0m\u001b[0msp\u001b[0m\u001b[0;34m.\u001b[0m\u001b[0msparse\u001b[0m\u001b[0;34m.\u001b[0m\u001b[0mcsr_matrix\u001b[0m\u001b[0;34m(\u001b[0m\u001b[0mdata\u001b[0m\u001b[0;34m)\u001b[0m\u001b[0;34m)\u001b[0m\u001b[0;34m\u001b[0m\u001b[0;34m\u001b[0m\u001b[0m\n\u001b[1;32m    484\u001b[0m         \u001b[0;32mreturn\u001b[0m \u001b[0mdata\u001b[0m\u001b[0;34m,\u001b[0m \u001b[0mlabels\u001b[0m\u001b[0;34m,\u001b[0m \u001b[0mdistances\u001b[0m\u001b[0;34m\u001b[0m\u001b[0;34m\u001b[0m\u001b[0m\n",
            "\u001b[0;32m<ipython-input-14-35edd921f2db>\u001b[0m in \u001b[0;36mpredictions\u001b[0;34m(test_reviews)\u001b[0m\n\u001b[1;32m     10\u001b[0m    \u001b[0mmasks\u001b[0m\u001b[0;34m=\u001b[0m\u001b[0mnp\u001b[0m\u001b[0;34m.\u001b[0m\u001b[0marray\u001b[0m\u001b[0;34m(\u001b[0m\u001b[0mmasks\u001b[0m\u001b[0;34m)\u001b[0m\u001b[0;34m\u001b[0m\u001b[0;34m\u001b[0m\u001b[0m\n\u001b[1;32m     11\u001b[0m \u001b[0;34m\u001b[0m\u001b[0m\n\u001b[0;32m---> 12\u001b[0;31m    \u001b[0mbert_output\u001b[0m \u001b[0;34m=\u001b[0m \u001b[0mtrained_model\u001b[0m\u001b[0;34m.\u001b[0m\u001b[0mpredict\u001b[0m\u001b[0;34m(\u001b[0m\u001b[0;34m[\u001b[0m\u001b[0mids\u001b[0m\u001b[0;34m,\u001b[0m\u001b[0mmasks\u001b[0m\u001b[0;34m]\u001b[0m\u001b[0;34m)\u001b[0m\u001b[0;34m\u001b[0m\u001b[0;34m\u001b[0m\u001b[0m\n\u001b[0m\u001b[1;32m     13\u001b[0m    \u001b[0mprobs\u001b[0m \u001b[0;34m=\u001b[0m \u001b[0msoftmax1\u001b[0m\u001b[0;34m(\u001b[0m\u001b[0mbert_output\u001b[0m\u001b[0;34m.\u001b[0m\u001b[0mlogits\u001b[0m\u001b[0;34m)\u001b[0m\u001b[0;34m\u001b[0m\u001b[0;34m\u001b[0m\u001b[0m\n\u001b[1;32m     14\u001b[0m    \u001b[0;32mreturn\u001b[0m \u001b[0mprobs\u001b[0m\u001b[0;34m\u001b[0m\u001b[0;34m\u001b[0m\u001b[0m\n",
            "\u001b[0;32m/usr/local/lib/python3.7/dist-packages/tensorflow/python/keras/engine/training.py\u001b[0m in \u001b[0;36mpredict\u001b[0;34m(self, x, batch_size, verbose, steps, callbacks, max_queue_size, workers, use_multiprocessing)\u001b[0m\n\u001b[1;32m   1627\u001b[0m           \u001b[0;32mfor\u001b[0m \u001b[0mstep\u001b[0m \u001b[0;32min\u001b[0m \u001b[0mdata_handler\u001b[0m\u001b[0;34m.\u001b[0m\u001b[0msteps\u001b[0m\u001b[0;34m(\u001b[0m\u001b[0;34m)\u001b[0m\u001b[0;34m:\u001b[0m\u001b[0;34m\u001b[0m\u001b[0;34m\u001b[0m\u001b[0m\n\u001b[1;32m   1628\u001b[0m             \u001b[0mcallbacks\u001b[0m\u001b[0;34m.\u001b[0m\u001b[0mon_predict_batch_begin\u001b[0m\u001b[0;34m(\u001b[0m\u001b[0mstep\u001b[0m\u001b[0;34m)\u001b[0m\u001b[0;34m\u001b[0m\u001b[0;34m\u001b[0m\u001b[0m\n\u001b[0;32m-> 1629\u001b[0;31m             \u001b[0mtmp_batch_outputs\u001b[0m \u001b[0;34m=\u001b[0m \u001b[0mself\u001b[0m\u001b[0;34m.\u001b[0m\u001b[0mpredict_function\u001b[0m\u001b[0;34m(\u001b[0m\u001b[0miterator\u001b[0m\u001b[0;34m)\u001b[0m\u001b[0;34m\u001b[0m\u001b[0;34m\u001b[0m\u001b[0m\n\u001b[0m\u001b[1;32m   1630\u001b[0m             \u001b[0;32mif\u001b[0m \u001b[0mdata_handler\u001b[0m\u001b[0;34m.\u001b[0m\u001b[0mshould_sync\u001b[0m\u001b[0;34m:\u001b[0m\u001b[0;34m\u001b[0m\u001b[0;34m\u001b[0m\u001b[0m\n\u001b[1;32m   1631\u001b[0m               \u001b[0mcontext\u001b[0m\u001b[0;34m.\u001b[0m\u001b[0masync_wait\u001b[0m\u001b[0;34m(\u001b[0m\u001b[0;34m)\u001b[0m\u001b[0;34m\u001b[0m\u001b[0;34m\u001b[0m\u001b[0m\n",
            "\u001b[0;32m/usr/local/lib/python3.7/dist-packages/tensorflow/python/eager/def_function.py\u001b[0m in \u001b[0;36m__call__\u001b[0;34m(self, *args, **kwds)\u001b[0m\n\u001b[1;32m    826\u001b[0m     \u001b[0mtracing_count\u001b[0m \u001b[0;34m=\u001b[0m \u001b[0mself\u001b[0m\u001b[0;34m.\u001b[0m\u001b[0mexperimental_get_tracing_count\u001b[0m\u001b[0;34m(\u001b[0m\u001b[0;34m)\u001b[0m\u001b[0;34m\u001b[0m\u001b[0;34m\u001b[0m\u001b[0m\n\u001b[1;32m    827\u001b[0m     \u001b[0;32mwith\u001b[0m \u001b[0mtrace\u001b[0m\u001b[0;34m.\u001b[0m\u001b[0mTrace\u001b[0m\u001b[0;34m(\u001b[0m\u001b[0mself\u001b[0m\u001b[0;34m.\u001b[0m\u001b[0m_name\u001b[0m\u001b[0;34m)\u001b[0m \u001b[0;32mas\u001b[0m \u001b[0mtm\u001b[0m\u001b[0;34m:\u001b[0m\u001b[0;34m\u001b[0m\u001b[0;34m\u001b[0m\u001b[0m\n\u001b[0;32m--> 828\u001b[0;31m       \u001b[0mresult\u001b[0m \u001b[0;34m=\u001b[0m \u001b[0mself\u001b[0m\u001b[0;34m.\u001b[0m\u001b[0m_call\u001b[0m\u001b[0;34m(\u001b[0m\u001b[0;34m*\u001b[0m\u001b[0margs\u001b[0m\u001b[0;34m,\u001b[0m \u001b[0;34m**\u001b[0m\u001b[0mkwds\u001b[0m\u001b[0;34m)\u001b[0m\u001b[0;34m\u001b[0m\u001b[0;34m\u001b[0m\u001b[0m\n\u001b[0m\u001b[1;32m    829\u001b[0m       \u001b[0mcompiler\u001b[0m \u001b[0;34m=\u001b[0m \u001b[0;34m\"xla\"\u001b[0m \u001b[0;32mif\u001b[0m \u001b[0mself\u001b[0m\u001b[0;34m.\u001b[0m\u001b[0m_experimental_compile\u001b[0m \u001b[0;32melse\u001b[0m \u001b[0;34m\"nonXla\"\u001b[0m\u001b[0;34m\u001b[0m\u001b[0;34m\u001b[0m\u001b[0m\n\u001b[1;32m    830\u001b[0m       \u001b[0mnew_tracing_count\u001b[0m \u001b[0;34m=\u001b[0m \u001b[0mself\u001b[0m\u001b[0;34m.\u001b[0m\u001b[0mexperimental_get_tracing_count\u001b[0m\u001b[0;34m(\u001b[0m\u001b[0;34m)\u001b[0m\u001b[0;34m\u001b[0m\u001b[0;34m\u001b[0m\u001b[0m\n",
            "\u001b[0;32m/usr/local/lib/python3.7/dist-packages/tensorflow/python/eager/def_function.py\u001b[0m in \u001b[0;36m_call\u001b[0;34m(self, *args, **kwds)\u001b[0m\n\u001b[1;32m    860\u001b[0m       \u001b[0;31m# In this case we have not created variables on the first call. So we can\u001b[0m\u001b[0;34m\u001b[0m\u001b[0;34m\u001b[0m\u001b[0;34m\u001b[0m\u001b[0m\n\u001b[1;32m    861\u001b[0m       \u001b[0;31m# run the first trace but we should fail if variables are created.\u001b[0m\u001b[0;34m\u001b[0m\u001b[0;34m\u001b[0m\u001b[0;34m\u001b[0m\u001b[0m\n\u001b[0;32m--> 862\u001b[0;31m       \u001b[0mresults\u001b[0m \u001b[0;34m=\u001b[0m \u001b[0mself\u001b[0m\u001b[0;34m.\u001b[0m\u001b[0m_stateful_fn\u001b[0m\u001b[0;34m(\u001b[0m\u001b[0;34m*\u001b[0m\u001b[0margs\u001b[0m\u001b[0;34m,\u001b[0m \u001b[0;34m**\u001b[0m\u001b[0mkwds\u001b[0m\u001b[0;34m)\u001b[0m\u001b[0;34m\u001b[0m\u001b[0;34m\u001b[0m\u001b[0m\n\u001b[0m\u001b[1;32m    863\u001b[0m       \u001b[0;32mif\u001b[0m \u001b[0mself\u001b[0m\u001b[0;34m.\u001b[0m\u001b[0m_created_variables\u001b[0m\u001b[0;34m:\u001b[0m\u001b[0;34m\u001b[0m\u001b[0;34m\u001b[0m\u001b[0m\n\u001b[1;32m    864\u001b[0m         raise ValueError(\"Creating variables on a non-first call to a function\"\n",
            "\u001b[0;32m/usr/local/lib/python3.7/dist-packages/tensorflow/python/eager/function.py\u001b[0m in \u001b[0;36m__call__\u001b[0;34m(self, *args, **kwargs)\u001b[0m\n\u001b[1;32m   2941\u001b[0m        filtered_flat_args) = self._maybe_define_function(args, kwargs)\n\u001b[1;32m   2942\u001b[0m     return graph_function._call_flat(\n\u001b[0;32m-> 2943\u001b[0;31m         filtered_flat_args, captured_inputs=graph_function.captured_inputs)  # pylint: disable=protected-access\n\u001b[0m\u001b[1;32m   2944\u001b[0m \u001b[0;34m\u001b[0m\u001b[0m\n\u001b[1;32m   2945\u001b[0m   \u001b[0;34m@\u001b[0m\u001b[0mproperty\u001b[0m\u001b[0;34m\u001b[0m\u001b[0;34m\u001b[0m\u001b[0m\n",
            "\u001b[0;32m/usr/local/lib/python3.7/dist-packages/tensorflow/python/eager/function.py\u001b[0m in \u001b[0;36m_call_flat\u001b[0;34m(self, args, captured_inputs, cancellation_manager)\u001b[0m\n\u001b[1;32m   1917\u001b[0m       \u001b[0;31m# No tape is watching; skip to running the function.\u001b[0m\u001b[0;34m\u001b[0m\u001b[0;34m\u001b[0m\u001b[0;34m\u001b[0m\u001b[0m\n\u001b[1;32m   1918\u001b[0m       return self._build_call_outputs(self._inference_function.call(\n\u001b[0;32m-> 1919\u001b[0;31m           ctx, args, cancellation_manager=cancellation_manager))\n\u001b[0m\u001b[1;32m   1920\u001b[0m     forward_backward = self._select_forward_and_backward_functions(\n\u001b[1;32m   1921\u001b[0m         \u001b[0margs\u001b[0m\u001b[0;34m,\u001b[0m\u001b[0;34m\u001b[0m\u001b[0;34m\u001b[0m\u001b[0m\n",
            "\u001b[0;32m/usr/local/lib/python3.7/dist-packages/tensorflow/python/eager/function.py\u001b[0m in \u001b[0;36mcall\u001b[0;34m(self, ctx, args, cancellation_manager)\u001b[0m\n\u001b[1;32m    558\u001b[0m               \u001b[0minputs\u001b[0m\u001b[0;34m=\u001b[0m\u001b[0margs\u001b[0m\u001b[0;34m,\u001b[0m\u001b[0;34m\u001b[0m\u001b[0;34m\u001b[0m\u001b[0m\n\u001b[1;32m    559\u001b[0m               \u001b[0mattrs\u001b[0m\u001b[0;34m=\u001b[0m\u001b[0mattrs\u001b[0m\u001b[0;34m,\u001b[0m\u001b[0;34m\u001b[0m\u001b[0;34m\u001b[0m\u001b[0m\n\u001b[0;32m--> 560\u001b[0;31m               ctx=ctx)\n\u001b[0m\u001b[1;32m    561\u001b[0m         \u001b[0;32melse\u001b[0m\u001b[0;34m:\u001b[0m\u001b[0;34m\u001b[0m\u001b[0;34m\u001b[0m\u001b[0m\n\u001b[1;32m    562\u001b[0m           outputs = execute.execute_with_cancellation(\n",
            "\u001b[0;32m/usr/local/lib/python3.7/dist-packages/tensorflow/python/eager/execute.py\u001b[0m in \u001b[0;36mquick_execute\u001b[0;34m(op_name, num_outputs, inputs, attrs, ctx, name)\u001b[0m\n\u001b[1;32m     58\u001b[0m     \u001b[0mctx\u001b[0m\u001b[0;34m.\u001b[0m\u001b[0mensure_initialized\u001b[0m\u001b[0;34m(\u001b[0m\u001b[0;34m)\u001b[0m\u001b[0;34m\u001b[0m\u001b[0;34m\u001b[0m\u001b[0m\n\u001b[1;32m     59\u001b[0m     tensors = pywrap_tfe.TFE_Py_Execute(ctx._handle, device_name, op_name,\n\u001b[0;32m---> 60\u001b[0;31m                                         inputs, attrs, num_outputs)\n\u001b[0m\u001b[1;32m     61\u001b[0m   \u001b[0;32mexcept\u001b[0m \u001b[0mcore\u001b[0m\u001b[0;34m.\u001b[0m\u001b[0m_NotOkStatusException\u001b[0m \u001b[0;32mas\u001b[0m \u001b[0me\u001b[0m\u001b[0;34m:\u001b[0m\u001b[0;34m\u001b[0m\u001b[0;34m\u001b[0m\u001b[0m\n\u001b[1;32m     62\u001b[0m     \u001b[0;32mif\u001b[0m \u001b[0mname\u001b[0m \u001b[0;32mis\u001b[0m \u001b[0;32mnot\u001b[0m \u001b[0;32mNone\u001b[0m\u001b[0;34m:\u001b[0m\u001b[0;34m\u001b[0m\u001b[0;34m\u001b[0m\u001b[0m\n",
            "\u001b[0;31mKeyboardInterrupt\u001b[0m: "
          ]
        }
      ]
    },
    {
      "cell_type": "markdown",
      "metadata": {
        "id": "5obtmcnJxx2A"
      },
      "source": [
        "#GUI (Anvil App)"
      ]
    },
    {
      "cell_type": "code",
      "metadata": {
        "colab": {
          "base_uri": "https://localhost:8080/",
          "height": 606
        },
        "id": "vhyKFbS4x4pt",
        "outputId": "e6f14fd1-a9c2-43d5-b351-bafea84e9e30"
      },
      "source": [
        "!pip install anvil-uplink\n",
        "import anvil.server\n",
        "import anvil.mpl_util\n",
        "import anvil.media\n",
        "anvil.server.connect(\"KMLP5DPXA3MKYSNZW4IVXBVN-6XOG4E5R4DV7QIIM\")\n",
        "\n",
        "!pip install GrabzIt\n",
        "from GrabzIt import GrabzItImageOptions\n",
        "from GrabzIt import GrabzItClient\n",
        "\n",
        "grabzIt = GrabzItClient.GrabzItClient(\"ZmMwMTFiZjViZmVlNDY4OGE4YTU0NTkxNzNjOTlmYWE=\", \"Pz9zPz8/Nj9EPz8LPz8/Pz8/Pz8MbBk/Vj8/TT8/ITw=\")\n",
        "\n",
        "options = GrabzItImageOptions.GrabzItImageOptions()\n",
        "options.browserHeight = -1\n",
        "options.width = -1\n",
        "options.height = -1"
      ],
      "execution_count": null,
      "outputs": [
        {
          "name": "stdout",
          "output_type": "stream",
          "text": [
            "Collecting anvil-uplink\n",
            "\u001b[?25l  Downloading https://files.pythonhosted.org/packages/9a/65/776713490bfd5145ddb87834355bf7936bd233b273098e37dc12f1ac253c/anvil_uplink-0.3.36-py2.py3-none-any.whl (61kB)\n",
            "\u001b[K     |████████████████████████████████| 61kB 3.1MB/s \n",
            "\u001b[?25hRequirement already satisfied: six in /usr/local/lib/python3.7/dist-packages (from anvil-uplink) (1.15.0)\n",
            "Requirement already satisfied: future in /usr/local/lib/python3.7/dist-packages (from anvil-uplink) (0.16.0)\n",
            "Collecting argparse\n",
            "  Downloading https://files.pythonhosted.org/packages/f2/94/3af39d34be01a24a6e65433d19e107099374224905f1e0cc6bbe1fd22a2f/argparse-1.4.0-py2.py3-none-any.whl\n",
            "Collecting ws4py\n",
            "\u001b[?25l  Downloading https://files.pythonhosted.org/packages/53/20/4019a739b2eefe9282d3822ef6a225250af964b117356971bd55e274193c/ws4py-0.5.1.tar.gz (51kB)\n",
            "\u001b[K     |████████████████████████████████| 61kB 4.6MB/s \n",
            "\u001b[?25hBuilding wheels for collected packages: ws4py\n",
            "  Building wheel for ws4py (setup.py) ... \u001b[?25l\u001b[?25hdone\n",
            "  Created wheel for ws4py: filename=ws4py-0.5.1-cp37-none-any.whl size=45216 sha256=a10a6d78ec205e7daec3e519353f73315d5108f56bf87d87b894ed5d49a2fa90\n",
            "  Stored in directory: /root/.cache/pip/wheels/a2/6e/4e/8b0ae12fb9b8a05715256952cf7609a8ab86285fab99b88c68\n",
            "Successfully built ws4py\n",
            "Installing collected packages: argparse, ws4py, anvil-uplink\n",
            "Successfully installed anvil-uplink-0.3.36 argparse-1.4.0 ws4py-0.5.1\n"
          ]
        },
        {
          "data": {
            "application/vnd.colab-display-data+json": {
              "pip_warning": {
                "packages": [
                  "argparse",
                  "google"
                ]
              }
            }
          },
          "metadata": {
            "tags": []
          },
          "output_type": "display_data"
        },
        {
          "name": "stdout",
          "output_type": "stream",
          "text": [
            "Connecting to wss://anvil.works/uplink\n",
            "Anvil websocket open\n",
            "Connected to \"Default environment (dev)\" as SERVER\n",
            "Collecting GrabzIt\n",
            "\u001b[?25l  Downloading https://files.pythonhosted.org/packages/dd/f6/01d79f2c356ca0d1abb7f8b44bbf3efa74c002ae2286c7805daaa140a915/GrabzIt-3.4.5.1.zip (52kB)\n",
            "\u001b[K     |████████████████████████████████| 61kB 3.2MB/s \n",
            "\u001b[?25hBuilding wheels for collected packages: GrabzIt\n",
            "  Building wheel for GrabzIt (setup.py) ... \u001b[?25l\u001b[?25hdone\n",
            "  Created wheel for GrabzIt: filename=GrabzIt-3.4.5.1-cp37-none-any.whl size=44281 sha256=77c3bcf80d533699d139cdc2edd4b360c7af41709093c6534e8b8a0778dece3e\n",
            "  Stored in directory: /root/.cache/pip/wheels/09/03/c0/cb12e840d525202eeeabdd50a5228ec9179e1b209329cdb3b9\n",
            "Successfully built GrabzIt\n",
            "Installing collected packages: GrabzIt\n",
            "Successfully installed GrabzIt-3.4.5.1\n"
          ]
        }
      ]
    },
    {
      "cell_type": "code",
      "metadata": {
        "id": "g62dhJRTpnYd"
      },
      "source": [
        "@anvil.server.callable\n",
        "def get_rating(review):\n",
        "  import matplotlib.pyplot as plt\n",
        "  %matplotlib inline\n",
        "  prob = np.round(get_prediction(review),3)\n",
        "  rating = np.argmax(prob)+1\n",
        "  plt.rcParams[\"figure.figsize\"]=(8,5)\n",
        "  plt.title(\"Propabilty of ratings\")\n",
        "  plt.xlabel('Rating')\n",
        "  plt.ylabel('Probability')\n",
        "  plt.bar([1,2,3,4,5],prob, color=['red', 'orange', 'yellow', 'lime', 'green'])\n",
        "  xlocs, xlabs = plt.xticks()\n",
        "  xlocs=[i+1 for i in range(0,5)]\n",
        "  xlabs=[i+1 for i in range(0,5)]\n",
        "  plt.xticks(xlocs, xlabs)\n",
        "\n",
        "  for i, v in enumerate(prob):\n",
        "      # plt.text(xlocs[i] - 0.25, v + 0.01, str(v))\n",
        "      plt.text(xlocs[i] - 0.125, v + 0.01, str(v))\n",
        "  plt.xlabel('Rating')\n",
        "  plt.ylabel('Probability')\n",
        "  plot = plt.savefig(\"plot\")\n",
        "  # graph = plt.savefig(\"plot\")\n",
        "  return prob,rating,anvil.mpl_util.plot_image()\n"
      ],
      "execution_count": null,
      "outputs": []
    },
    {
      "cell_type": "code",
      "metadata": {
        "id": "26a-nIIGozdu"
      },
      "source": [
        "# @anvil.server.callable\n",
        "# def lime_result(review):\n",
        "#   exp = explainer.explain_instance(review, predictions, num_features=10, top_labels=5)\n",
        "#   fig = exp.as_pyplot_figure(label=exp.available_labels()[0])\n",
        "#   return anvil.mpl_util.plot_image()"
      ],
      "execution_count": null,
      "outputs": []
    },
    {
      "cell_type": "code",
      "metadata": {
        "id": "P2Ru8v8MaIRn"
      },
      "source": [
        "@anvil.server.callable\n",
        "def lime_result(review):\n",
        "  exp = explainer.explain_instance(review, predictions, num_features=10, top_labels = 1)\n",
        "  exp.save_to_file('/content/cs772_lime.html')\n",
        "  grabzIt.FileToImage('cs772_lime.html', options)\n",
        "  grabzIt.SaveTo(\"lime.png\")\n",
        "  #fig = exp.as_pyplot_figure(label=exp.available_labels()[0])\n",
        "\n",
        "  return anvil.media.from_file('/content/lime.png')"
      ],
      "execution_count": null,
      "outputs": []
    },
    {
      "cell_type": "code",
      "metadata": {
        "colab": {
          "background_save": true
        },
        "id": "uO5lMiztpOKw",
        "outputId": "568d9235-8ac4-4058-cf64-e6f8523b1598"
      },
      "source": [
        "lime_result(review)"
      ],
      "execution_count": null,
      "outputs": [
        {
          "data": {
            "text/plain": [
              "BlobMedia[None,55634 bytes,name=lime.png]"
            ]
          },
          "execution_count": null,
          "metadata": {},
          "output_type": "execute_result"
        },
        {
          "data": {
            "image/png": "[encoded data removed]",
            "text/plain": [
              "<Figure size 576x360 with 1 Axes>"
            ]
          },
          "metadata": {},
          "output_type": "display_data"
        }
      ]
    },
    {
      "cell_type": "code",
      "metadata": {
        "colab": {
          "base_uri": "https://localhost:8080/",
          "height": 401
        },
        "id": "PZHESBeMYSDX",
        "outputId": "14940866-47e4-4c96-fc58-0b2db5072b35"
      },
      "source": [
        "get_rating(\"not good product\")"
      ],
      "execution_count": null,
      "outputs": [
        {
          "data": {
            "text/plain": [
              "(array([0.489, 0.385, 0.112, 0.01 , 0.004], dtype=float32),\n",
              " 1,\n",
              " BlobMedia[image/png,8187 bytes,name=plot.png])"
            ]
          },
          "execution_count": 35,
          "metadata": {
            "tags": []
          },
          "output_type": "execute_result"
        },
        {
          "data": {
            "image/png": "[encoded data removed]",
            "text/plain": [
              "<Figure size 576x360 with 1 Axes>"
            ]
          },
          "metadata": {
            "tags": []
          },
          "output_type": "display_data"
        }
      ]
    },
    {
      "cell_type": "code",
      "metadata": {
        "colab": {
          "base_uri": "https://localhost:8080/",
          "height": 384
        },
        "id": "Hiz7GMLLkSJp",
        "outputId": "58bd15d0-dcc0-402d-cbb7-a2c2277bbc72"
      },
      "source": [
        "get_prediction(\"The product is good, but the box was broken\")"
      ],
      "execution_count": null,
      "outputs": [
        {
          "data": {
            "text/plain": [
              "array([0.05588271, 0.210139  , 0.5314784 , 0.17545804, 0.02704185],\n",
              "      dtype=float32)"
            ]
          },
          "execution_count": 137,
          "metadata": {
            "tags": []
          },
          "output_type": "execute_result"
        },
        {
          "data": {
            "image/png": "[encoded data removed]",
            "text/plain": [
              "<Figure size 576x360 with 1 Axes>"
            ]
          },
          "metadata": {
            "tags": []
          },
          "output_type": "display_data"
        }
      ]
    },
    {
      "cell_type": "code",
      "metadata": {
        "id": "T2GPA0IHcri_"
      },
      "source": [
        "revs = [\"What crap.  Would need a lot more power to do what it is saying\",\n",
        "        \"Couldn't get it to hold 30 of my 15ml bottles. Liked it being lightweight but wasn't right for me!\",\n",
        "        \"i like them but they were bent  and then  i try to get them out the lil bag they were in they broke.\",\n",
        "        \"So far, my wife likes this cream and plans to order more.\",\n",
        "        'Been wearing this for several years.. good highlight color over darker or by itself...personally really like.',\n",
        "        'I really like this item and it works well and it picks up the dog hair']"
      ],
      "execution_count": null,
      "outputs": []
    },
    {
      "cell_type": "markdown",
      "metadata": {
        "id": "Kd-vyNujsDLb"
      },
      "source": [
        "#Data Analysis"
      ]
    },
    {
      "cell_type": "code",
      "metadata": {
        "colab": {
          "base_uri": "https://localhost:8080/",
          "height": 312
        },
        "id": "xK4Uoa9Dbpfc",
        "outputId": "ef2b2b0a-9e95-4da4-a37e-c38299bb01b4"
      },
      "source": [
        "import seaborn as sns \n",
        "sns.countplot(x='ratings', data=data).set_title('Train Data Distribution')"
      ],
      "execution_count": null,
      "outputs": [
        {
          "data": {
            "text/plain": [
              "Text(0.5, 1.0, 'Train Data Distribution')"
            ]
          },
          "execution_count": 58,
          "metadata": {
            "tags": []
          },
          "output_type": "execute_result"
        },
        {
          "data": {
            "image/png": "[encoded data removed]",
            "text/plain": [
              "<Figure size 432x288 with 1 Axes>"
            ]
          },
          "metadata": {
            "tags": []
          },
          "output_type": "display_data"
        }
      ]
    },
    {
      "cell_type": "code",
      "metadata": {
        "colab": {
          "base_uri": "https://localhost:8080/",
          "height": 312
        },
        "id": "hXpgyoiMqysb",
        "outputId": "c2711a5f-bb92-4dbb-9fd6-d5e2fc8850bf"
      },
      "source": [
        "sns.countplot(x='ratings', data=df_test).set_title('Test Data Distribution')"
      ],
      "execution_count": null,
      "outputs": [
        {
          "data": {
            "text/plain": [
              "Text(0.5, 1.0, 'Test Data Distribution')"
            ]
          },
          "execution_count": 59,
          "metadata": {
            "tags": []
          },
          "output_type": "execute_result"
        },
        {
          "data": {
            "image/png": "[encoded data removed]",
            "text/plain": [
              "<Figure size 432x288 with 1 Axes>"
            ]
          },
          "metadata": {
            "tags": []
          },
          "output_type": "display_data"
        }
      ]
    },
    {
      "cell_type": "code",
      "metadata": {
        "id": "gvCDkVi84hvM"
      },
      "source": [
        "reviews = data['reviews']\n",
        "reviews = reviews.apply(convert_to_lower)\n",
        "reviews = reviews.apply(remove_punctuations)\n",
        "reviews = reviews.apply(remove_stopwords)\n",
        "data['reviews_processed'] = reviews"
      ],
      "execution_count": null,
      "outputs": []
    },
    {
      "cell_type": "code",
      "metadata": {
        "id": "XO2T3jT5BGez"
      },
      "source": [
        "df1 = data.loc[data['ratings'] == 1]\n",
        "df2 = data.loc[data['ratings'] == 2]\n",
        "df3 = data.loc[data['ratings'] == 3]\n",
        "df4 = data.loc[data['ratings'] == 4]\n",
        "df5 = data.loc[data['ratings'] == 5]"
      ],
      "execution_count": null,
      "outputs": []
    },
    {
      "cell_type": "code",
      "metadata": {
        "id": "137ejdazEeHm"
      },
      "source": [
        "top = 12\n",
        "r1 = pd.Series(' '.join(df1['reviews_processed']).lower().split()).value_counts()[:top]\n",
        "r2 = pd.Series(' '.join(df2['reviews_processed']).lower().split()).value_counts()[:top]\n",
        "r3 = pd.Series(' '.join(df3['reviews_processed']).lower().split()).value_counts()[:top]\n",
        "r4 = pd.Series(' '.join(df4['reviews_processed']).lower().split()).value_counts()[:top]\n",
        "r5 = pd.Series(' '.join(df5['reviews_processed']).lower().split()).value_counts()[:top]"
      ],
      "execution_count": null,
      "outputs": []
    },
    {
      "cell_type": "code",
      "metadata": {
        "colab": {
          "base_uri": "https://localhost:8080/"
        },
        "id": "3ygRmOqnGAtJ",
        "outputId": "82daee6e-7dd8-41ec-bde9-a6adf6445597"
      },
      "source": [
        "print('Top 12 frequent words in class 1\\n',r1.to_frame().T,'\\n')\n",
        "print('Top 12 frequent words in class 2\\n',r2.to_frame().T,'\\n')\n",
        "print('Top 12 frequent words in class 3\\n',r3.to_frame().T,'\\n')\n",
        "print('Top 12 frequent words in class 4\\n',r4.to_frame().T,'\\n')\n",
        "print('Top 12 frequent words in class 5\\n',r5.to_frame().T,'\\n')"
      ],
      "execution_count": null,
      "outputs": [
        {
          "name": "stdout",
          "output_type": "stream",
          "text": [
            "Top 12 frequent words in class 1\n",
            "     not  product  like  but  work  money  dont  use  hair   no  one  didnt\n",
            "0  1820      653   487  476   399    397   378  342   312  310  306    297 \n",
            "\n",
            "Top 12 frequent words in class 2\n",
            "    not  but  product  like  hair  use  work  good  didnt  one  dont  doesnt\n",
            "0  925  557      296   260   212  185   178   177    173  173   162     159 \n",
            "\n",
            "Top 12 frequent words in class 3\n",
            "     but   not  good  like  product  use  would  great  well   ok  works  really\n",
            "0  1607  1174   504   458      409  304    284    284   261  257    245     235 \n",
            "\n",
            "Top 12 frequent words in class 4\n",
            "     but  good  great  product  not  like  works  well  use  nice  little  love\n",
            "0  2046  1492   1290     1140  983   972    942   837  817   618     576   554 \n",
            "\n",
            "Top 12 frequent words in class 5\n",
            "    great  love  product  good   use  works  well  hair  like   but  skin   not\n",
            "0   9106  7173     6549  4291  4196   3667  2863  2856  2766  2719  2679  2445 \n",
            "\n"
          ]
        }
      ]
    }
  ]
}